{
 "cells": [
  {
   "cell_type": "code",
   "execution_count": 1,
   "id": "064fc363",
   "metadata": {},
   "outputs": [],
   "source": [
    "import urllib.request\n",
    "import time\n",
    "import helpful_functions\n",
    "from os import path"
   ]
  },
  {
   "cell_type": "code",
   "execution_count": 14,
   "id": "4dc84721",
   "metadata": {},
   "outputs": [],
   "source": [
    "# fill next few rows with actual info\n",
    "# by defalut, will be downloaded for Oslo, all existing data (since 2019-04 till 2022-06) into folder ./data.\n",
    "city_name = 'trondheim'        # можливі варіанти: olso, bergen, trondheim\n",
    "\n",
    "start_month = 4           # 1 - 12\n",
    "start_year = 2022         # 2019 - 2022\n",
    "\n",
    "end_month = 6             # 1 - 12\n",
    "end_year = 2022           # 2019 - 2022\n",
    "\n",
    "destination_folder = './data'\n",
    "# end filling"
   ]
  },
  {
   "cell_type": "code",
   "execution_count": 15,
   "id": "7ce5383b",
   "metadata": {},
   "outputs": [],
   "source": [
    "def download_file(download_url, filename):\n",
    "    response = urllib.request.urlopen(download_url)    \n",
    "    file = open(filename, 'wb')\n",
    "    file.write(response.read())\n",
    "    file.close()"
   ]
  },
  {
   "cell_type": "code",
   "execution_count": 16,
   "id": "df310b6d",
   "metadata": {},
   "outputs": [],
   "source": [
    "# generate all possible month-year combinations within the selected period\n",
    "dates_str_list = helpful_functions.generate_months_in_period(\n",
    "    start_month=start_month, \n",
    "    start_year=start_year, \n",
    "    end_month=end_month, \n",
    "    end_year=end_year, \n",
    "    sep=\"/\")"
   ]
  },
  {
   "cell_type": "code",
   "execution_count": 17,
   "id": "3de0ee40",
   "metadata": {},
   "outputs": [
    {
     "name": "stdout",
     "output_type": "stream",
     "text": [
      "in progres:  trondheim_2022_04\n",
      "in progres:  trondheim_2022_05\n",
      "in progres:  trondheim_2022_06\n",
      "Time:  2.849416971206665  s\n"
     ]
    }
   ],
   "source": [
    "# download files\n",
    "start = time.time()\n",
    "if path.exists(destination_folder):\n",
    "    for date in dates_str_list:\n",
    "        download_url = f\"https://data.urbansharing.com/{city_name}bysykkel.no/trips/v1/{date}.csv\"\n",
    "        filename = f\"{city_name}_{date.replace('/', '_')}.csv\"\n",
    "        print(\"in progres: \", filename[:-4])\n",
    "        destination_full_path = '/'.join([destination_folder, filename])\n",
    "        download_file(download_url, destination_full_path)\n",
    "else:\n",
    "    print(\"Destination folder not found\")\n",
    "end = time.time()\n",
    "print('Time: ', end - start, ' s')"
   ]
  },
  {
   "cell_type": "code",
   "execution_count": null,
   "id": "7031cc64",
   "metadata": {},
   "outputs": [],
   "source": []
  }
 ],
 "metadata": {
  "kernelspec": {
   "display_name": "Python 3 (ipykernel)",
   "language": "python",
   "name": "python3"
  },
  "language_info": {
   "codemirror_mode": {
    "name": "ipython",
    "version": 3
   },
   "file_extension": ".py",
   "mimetype": "text/x-python",
   "name": "python",
   "nbconvert_exporter": "python",
   "pygments_lexer": "ipython3",
   "version": "3.9.9"
  }
 },
 "nbformat": 4,
 "nbformat_minor": 5
}
