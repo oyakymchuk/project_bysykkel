{
 "cells": [
  {
   "cell_type": "markdown",
   "metadata": {},
   "source": [
    "# Завдання 1: Визначення шаблонів зміни тривалості оренди велосипедів залежно від часу доби, дня тижня, сезону"
   ]
  },
  {
   "cell_type": "code",
   "execution_count": 54,
   "metadata": {},
   "outputs": [],
   "source": [
    "import pandas as pd\n",
    "import datetime\n",
    "import time\n",
    "import helpful_functions\n",
    "import matplotlib.pyplot as plt\n",
    "import warnings\n",
    "\n",
    "from matplotlib.ticker import MultipleLocator\n",
    "\n",
    "warnings.filterwarnings('ignore')\n",
    "plt.rcParams['figure.figsize'] = [12, 6]"
   ]
  },
  {
   "cell_type": "code",
   "execution_count": 2,
   "metadata": {},
   "outputs": [],
   "source": [
    "city_name = 'oslo'        # можливі варіанти: olso, bergen, trondheim\n",
    "\n",
    "start_month = 4           # 1 - 12\n",
    "start_year = 2019         # 2019 - 2022\n",
    "\n",
    "end_month = 6             # 1 - 12\n",
    "end_year = 2022           # 2019 - 2022\n",
    "\n",
    "data_folder = './data'"
   ]
  },
  {
   "cell_type": "code",
   "execution_count": 3,
   "metadata": {},
   "outputs": [],
   "source": [
    "dates_str_list = helpful_functions.generate_months_in_period(\n",
    "    start_month=start_month, \n",
    "    start_year=start_year, \n",
    "    end_month=end_month, \n",
    "    end_year=end_year, \n",
    "    sep=\"_\")"
   ]
  },
  {
   "cell_type": "markdown",
   "metadata": {},
   "source": [
    "Зчитуємо дані."
   ]
  },
  {
   "cell_type": "code",
   "execution_count": 4,
   "metadata": {},
   "outputs": [
    {
     "name": "stdout",
     "output_type": "stream",
     "text": [
      "Зчитування:  47.990216970443726 с. \n",
      "\n",
      "Розмір початкової таблиці:  (5833647, 13)\n"
     ]
    }
   ],
   "source": [
    "start = time.time()\n",
    "df = pd.read_csv(f\"{data_folder}/{city_name}_{dates_str_list[0]}.csv\")\n",
    "for date in dates_str_list[1:]:\n",
    "    df = pd.concat([df, pd.read_csv(f\"{data_folder}/{city_name}_{date}.csv\")])\n",
    "end = time.time()\n",
    "print(\"Зчитування: \", end - start, \"с. \\n\")\n",
    "print(\"Розмір початкової таблиці: \", df.shape)"
   ]
  },
  {
   "cell_type": "code",
   "execution_count": 5,
   "metadata": {},
   "outputs": [
    {
     "data": {
      "text/html": [
       "<div>\n",
       "<style scoped>\n",
       "    .dataframe tbody tr th:only-of-type {\n",
       "        vertical-align: middle;\n",
       "    }\n",
       "\n",
       "    .dataframe tbody tr th {\n",
       "        vertical-align: top;\n",
       "    }\n",
       "\n",
       "    .dataframe thead th {\n",
       "        text-align: right;\n",
       "    }\n",
       "</style>\n",
       "<table border=\"1\" class=\"dataframe\">\n",
       "  <thead>\n",
       "    <tr style=\"text-align: right;\">\n",
       "      <th></th>\n",
       "      <th>started_at</th>\n",
       "      <th>ended_at</th>\n",
       "      <th>duration</th>\n",
       "      <th>start_station_id</th>\n",
       "      <th>start_station_name</th>\n",
       "      <th>start_station_description</th>\n",
       "      <th>start_station_latitude</th>\n",
       "      <th>start_station_longitude</th>\n",
       "      <th>end_station_id</th>\n",
       "      <th>end_station_name</th>\n",
       "      <th>end_station_description</th>\n",
       "      <th>end_station_latitude</th>\n",
       "      <th>end_station_longitude</th>\n",
       "    </tr>\n",
       "  </thead>\n",
       "  <tbody>\n",
       "    <tr>\n",
       "      <th>0</th>\n",
       "      <td>2019-04-02 22:18:47.926000+00:00</td>\n",
       "      <td>2019-04-02 22:24:25.427000+00:00</td>\n",
       "      <td>337</td>\n",
       "      <td>401</td>\n",
       "      <td>Schous plass</td>\n",
       "      <td>nærmest Thorvald Meyers gate</td>\n",
       "      <td>59.920259</td>\n",
       "      <td>10.760629</td>\n",
       "      <td>381</td>\n",
       "      <td>Grønlands torg</td>\n",
       "      <td>ved Tøyenbekken</td>\n",
       "      <td>59.91252</td>\n",
       "      <td>10.76224</td>\n",
       "    </tr>\n",
       "    <tr>\n",
       "      <th>1</th>\n",
       "      <td>2019-04-02 22:25:54.203000+00:00</td>\n",
       "      <td>2019-04-02 22:27:36.114000+00:00</td>\n",
       "      <td>101</td>\n",
       "      <td>556</td>\n",
       "      <td>Pilestredet</td>\n",
       "      <td>ved Sporveisgata</td>\n",
       "      <td>59.926224</td>\n",
       "      <td>10.729625</td>\n",
       "      <td>556</td>\n",
       "      <td>Pilestredet</td>\n",
       "      <td>ved Sporveisgata</td>\n",
       "      <td>59.926224</td>\n",
       "      <td>10.729625</td>\n",
       "    </tr>\n",
       "    <tr>\n",
       "      <th>2</th>\n",
       "      <td>2019-04-02 22:26:39.308000+00:00</td>\n",
       "      <td>2019-04-02 22:31:59.445000+00:00</td>\n",
       "      <td>320</td>\n",
       "      <td>561</td>\n",
       "      <td>Kirkeveien</td>\n",
       "      <td>nord for Gørbitz' gate</td>\n",
       "      <td>59.933558</td>\n",
       "      <td>10.726426</td>\n",
       "      <td>471</td>\n",
       "      <td>Marienlyst</td>\n",
       "      <td>i Suhms gate</td>\n",
       "      <td>59.932454</td>\n",
       "      <td>10.721769</td>\n",
       "    </tr>\n",
       "    <tr>\n",
       "      <th>3</th>\n",
       "      <td>2019-04-03 03:09:58.992000+00:00</td>\n",
       "      <td>2019-04-03 03:12:00.589000+00:00</td>\n",
       "      <td>121</td>\n",
       "      <td>393</td>\n",
       "      <td>Hans Nielsen Hauges plass</td>\n",
       "      <td>Mellom Åsengata og Nordkappgata</td>\n",
       "      <td>59.939244</td>\n",
       "      <td>10.774319</td>\n",
       "      <td>393</td>\n",
       "      <td>Hans Nielsen Hauges plass</td>\n",
       "      <td>Mellom Åsengata og Nordkappgata</td>\n",
       "      <td>59.939244</td>\n",
       "      <td>10.774319</td>\n",
       "    </tr>\n",
       "    <tr>\n",
       "      <th>4</th>\n",
       "      <td>2019-04-03 03:10:02.415000+00:00</td>\n",
       "      <td>2019-04-03 03:14:44.537000+00:00</td>\n",
       "      <td>282</td>\n",
       "      <td>597</td>\n",
       "      <td>Fredensborg</td>\n",
       "      <td>ved rundkjøringen</td>\n",
       "      <td>59.920995</td>\n",
       "      <td>10.750358</td>\n",
       "      <td>557</td>\n",
       "      <td>Akersgata</td>\n",
       "      <td>ved Grensen</td>\n",
       "      <td>59.914197</td>\n",
       "      <td>10.742883</td>\n",
       "    </tr>\n",
       "  </tbody>\n",
       "</table>\n",
       "</div>"
      ],
      "text/plain": [
       "                         started_at                          ended_at  \\\n",
       "0  2019-04-02 22:18:47.926000+00:00  2019-04-02 22:24:25.427000+00:00   \n",
       "1  2019-04-02 22:25:54.203000+00:00  2019-04-02 22:27:36.114000+00:00   \n",
       "2  2019-04-02 22:26:39.308000+00:00  2019-04-02 22:31:59.445000+00:00   \n",
       "3  2019-04-03 03:09:58.992000+00:00  2019-04-03 03:12:00.589000+00:00   \n",
       "4  2019-04-03 03:10:02.415000+00:00  2019-04-03 03:14:44.537000+00:00   \n",
       "\n",
       "  duration start_station_id         start_station_name  \\\n",
       "0      337              401               Schous plass   \n",
       "1      101              556                Pilestredet   \n",
       "2      320              561                 Kirkeveien   \n",
       "3      121              393  Hans Nielsen Hauges plass   \n",
       "4      282              597                Fredensborg   \n",
       "\n",
       "         start_station_description start_station_latitude  \\\n",
       "0     nærmest Thorvald Meyers gate              59.920259   \n",
       "1                 ved Sporveisgata              59.926224   \n",
       "2           nord for Gørbitz' gate              59.933558   \n",
       "3  Mellom Åsengata og Nordkappgata              59.939244   \n",
       "4                ved rundkjøringen              59.920995   \n",
       "\n",
       "  start_station_longitude end_station_id           end_station_name  \\\n",
       "0               10.760629            381             Grønlands torg   \n",
       "1               10.729625            556                Pilestredet   \n",
       "2               10.726426            471                 Marienlyst   \n",
       "3               10.774319            393  Hans Nielsen Hauges plass   \n",
       "4               10.750358            557                  Akersgata   \n",
       "\n",
       "           end_station_description end_station_latitude end_station_longitude  \n",
       "0                  ved Tøyenbekken             59.91252              10.76224  \n",
       "1                 ved Sporveisgata            59.926224             10.729625  \n",
       "2                     i Suhms gate            59.932454             10.721769  \n",
       "3  Mellom Åsengata og Nordkappgata            59.939244             10.774319  \n",
       "4                      ved Grensen            59.914197             10.742883  "
      ]
     },
     "execution_count": 5,
     "metadata": {},
     "output_type": "execute_result"
    }
   ],
   "source": [
    "df.head()"
   ]
  },
  {
   "cell_type": "markdown",
   "metadata": {},
   "source": [
    "Трансформуємо 'started_at' і 'ended_at' в тип даних _datetime_. Потім з ним легше працювати ніж з _str_.\n",
    "\n",
    "Мікросекунди видаляємо, бо там є дані без мікросекунд і це портить зчитування, а вони, мабуть, не багато вирішують.\n",
    "Таймзону також видаляємо,вона всюди +00:00.\n",
    "\n",
    "__Питання:__\n",
    "> Чому таймзона +00:00? Мабуть варто перевести в таймзону Осло --- +02:00?"
   ]
  },
  {
   "cell_type": "code",
   "execution_count": 6,
   "metadata": {},
   "outputs": [
    {
     "data": {
      "text/html": [
       "<div>\n",
       "<style scoped>\n",
       "    .dataframe tbody tr th:only-of-type {\n",
       "        vertical-align: middle;\n",
       "    }\n",
       "\n",
       "    .dataframe tbody tr th {\n",
       "        vertical-align: top;\n",
       "    }\n",
       "\n",
       "    .dataframe thead th {\n",
       "        text-align: right;\n",
       "    }\n",
       "</style>\n",
       "<table border=\"1\" class=\"dataframe\">\n",
       "  <thead>\n",
       "    <tr style=\"text-align: right;\">\n",
       "      <th></th>\n",
       "      <th>started_at</th>\n",
       "      <th>ended_at</th>\n",
       "      <th>duration</th>\n",
       "      <th>start_station_id</th>\n",
       "      <th>start_station_name</th>\n",
       "      <th>start_station_description</th>\n",
       "      <th>start_station_latitude</th>\n",
       "      <th>start_station_longitude</th>\n",
       "      <th>end_station_id</th>\n",
       "      <th>end_station_name</th>\n",
       "      <th>end_station_description</th>\n",
       "      <th>end_station_latitude</th>\n",
       "      <th>end_station_longitude</th>\n",
       "      <th>started_at_dt</th>\n",
       "      <th>ended_at_dt</th>\n",
       "    </tr>\n",
       "  </thead>\n",
       "  <tbody>\n",
       "    <tr>\n",
       "      <th>0</th>\n",
       "      <td>2019-04-02 22:18:47.926000+00:00</td>\n",
       "      <td>2019-04-02 22:24:25.427000+00:00</td>\n",
       "      <td>337</td>\n",
       "      <td>401</td>\n",
       "      <td>Schous plass</td>\n",
       "      <td>nærmest Thorvald Meyers gate</td>\n",
       "      <td>59.920259</td>\n",
       "      <td>10.760629</td>\n",
       "      <td>381</td>\n",
       "      <td>Grønlands torg</td>\n",
       "      <td>ved Tøyenbekken</td>\n",
       "      <td>59.91252</td>\n",
       "      <td>10.76224</td>\n",
       "      <td>2019-04-02 22:18:47</td>\n",
       "      <td>2019-04-02 22:24:25</td>\n",
       "    </tr>\n",
       "    <tr>\n",
       "      <th>1</th>\n",
       "      <td>2019-04-02 22:25:54.203000+00:00</td>\n",
       "      <td>2019-04-02 22:27:36.114000+00:00</td>\n",
       "      <td>101</td>\n",
       "      <td>556</td>\n",
       "      <td>Pilestredet</td>\n",
       "      <td>ved Sporveisgata</td>\n",
       "      <td>59.926224</td>\n",
       "      <td>10.729625</td>\n",
       "      <td>556</td>\n",
       "      <td>Pilestredet</td>\n",
       "      <td>ved Sporveisgata</td>\n",
       "      <td>59.926224</td>\n",
       "      <td>10.729625</td>\n",
       "      <td>2019-04-02 22:25:54</td>\n",
       "      <td>2019-04-02 22:27:36</td>\n",
       "    </tr>\n",
       "    <tr>\n",
       "      <th>2</th>\n",
       "      <td>2019-04-02 22:26:39.308000+00:00</td>\n",
       "      <td>2019-04-02 22:31:59.445000+00:00</td>\n",
       "      <td>320</td>\n",
       "      <td>561</td>\n",
       "      <td>Kirkeveien</td>\n",
       "      <td>nord for Gørbitz' gate</td>\n",
       "      <td>59.933558</td>\n",
       "      <td>10.726426</td>\n",
       "      <td>471</td>\n",
       "      <td>Marienlyst</td>\n",
       "      <td>i Suhms gate</td>\n",
       "      <td>59.932454</td>\n",
       "      <td>10.721769</td>\n",
       "      <td>2019-04-02 22:26:39</td>\n",
       "      <td>2019-04-02 22:31:59</td>\n",
       "    </tr>\n",
       "    <tr>\n",
       "      <th>3</th>\n",
       "      <td>2019-04-03 03:09:58.992000+00:00</td>\n",
       "      <td>2019-04-03 03:12:00.589000+00:00</td>\n",
       "      <td>121</td>\n",
       "      <td>393</td>\n",
       "      <td>Hans Nielsen Hauges plass</td>\n",
       "      <td>Mellom Åsengata og Nordkappgata</td>\n",
       "      <td>59.939244</td>\n",
       "      <td>10.774319</td>\n",
       "      <td>393</td>\n",
       "      <td>Hans Nielsen Hauges plass</td>\n",
       "      <td>Mellom Åsengata og Nordkappgata</td>\n",
       "      <td>59.939244</td>\n",
       "      <td>10.774319</td>\n",
       "      <td>2019-04-03 03:09:58</td>\n",
       "      <td>2019-04-03 03:12:00</td>\n",
       "    </tr>\n",
       "    <tr>\n",
       "      <th>4</th>\n",
       "      <td>2019-04-03 03:10:02.415000+00:00</td>\n",
       "      <td>2019-04-03 03:14:44.537000+00:00</td>\n",
       "      <td>282</td>\n",
       "      <td>597</td>\n",
       "      <td>Fredensborg</td>\n",
       "      <td>ved rundkjøringen</td>\n",
       "      <td>59.920995</td>\n",
       "      <td>10.750358</td>\n",
       "      <td>557</td>\n",
       "      <td>Akersgata</td>\n",
       "      <td>ved Grensen</td>\n",
       "      <td>59.914197</td>\n",
       "      <td>10.742883</td>\n",
       "      <td>2019-04-03 03:10:02</td>\n",
       "      <td>2019-04-03 03:14:44</td>\n",
       "    </tr>\n",
       "  </tbody>\n",
       "</table>\n",
       "</div>"
      ],
      "text/plain": [
       "                         started_at                          ended_at  \\\n",
       "0  2019-04-02 22:18:47.926000+00:00  2019-04-02 22:24:25.427000+00:00   \n",
       "1  2019-04-02 22:25:54.203000+00:00  2019-04-02 22:27:36.114000+00:00   \n",
       "2  2019-04-02 22:26:39.308000+00:00  2019-04-02 22:31:59.445000+00:00   \n",
       "3  2019-04-03 03:09:58.992000+00:00  2019-04-03 03:12:00.589000+00:00   \n",
       "4  2019-04-03 03:10:02.415000+00:00  2019-04-03 03:14:44.537000+00:00   \n",
       "\n",
       "  duration start_station_id         start_station_name  \\\n",
       "0      337              401               Schous plass   \n",
       "1      101              556                Pilestredet   \n",
       "2      320              561                 Kirkeveien   \n",
       "3      121              393  Hans Nielsen Hauges plass   \n",
       "4      282              597                Fredensborg   \n",
       "\n",
       "         start_station_description start_station_latitude  \\\n",
       "0     nærmest Thorvald Meyers gate              59.920259   \n",
       "1                 ved Sporveisgata              59.926224   \n",
       "2           nord for Gørbitz' gate              59.933558   \n",
       "3  Mellom Åsengata og Nordkappgata              59.939244   \n",
       "4                ved rundkjøringen              59.920995   \n",
       "\n",
       "  start_station_longitude end_station_id           end_station_name  \\\n",
       "0               10.760629            381             Grønlands torg   \n",
       "1               10.729625            556                Pilestredet   \n",
       "2               10.726426            471                 Marienlyst   \n",
       "3               10.774319            393  Hans Nielsen Hauges plass   \n",
       "4               10.750358            557                  Akersgata   \n",
       "\n",
       "           end_station_description end_station_latitude end_station_longitude  \\\n",
       "0                  ved Tøyenbekken             59.91252              10.76224   \n",
       "1                 ved Sporveisgata            59.926224             10.729625   \n",
       "2                     i Suhms gate            59.932454             10.721769   \n",
       "3  Mellom Åsengata og Nordkappgata            59.939244             10.774319   \n",
       "4                      ved Grensen            59.914197             10.742883   \n",
       "\n",
       "        started_at_dt         ended_at_dt  \n",
       "0 2019-04-02 22:18:47 2019-04-02 22:24:25  \n",
       "1 2019-04-02 22:25:54 2019-04-02 22:27:36  \n",
       "2 2019-04-02 22:26:39 2019-04-02 22:31:59  \n",
       "3 2019-04-03 03:09:58 2019-04-03 03:12:00  \n",
       "4 2019-04-03 03:10:02 2019-04-03 03:14:44  "
      ]
     },
     "execution_count": 6,
     "metadata": {},
     "output_type": "execute_result"
    }
   ],
   "source": [
    "#strptime_pattern = \"%Y-%m-%d %H:%M:%S.%f%z\"\n",
    "strptime_pattern = \"%Y-%m-%d %H:%M:%S%z\"\n",
    "\n",
    "df['started_at_dt'] = df['started_at'].apply(lambda x: datetime.datetime.strptime(x[:-6].split('.')[0] + x[-6:], strptime_pattern))\n",
    "df['ended_at_dt'] = df['ended_at'].apply(lambda x: datetime.datetime.strptime(x[:-6].split('.')[0] + x[-6:], strptime_pattern))\n",
    "\n",
    "df.head()"
   ]
  },
  {
   "cell_type": "markdown",
   "metadata": {},
   "source": [
    "### Питання 1:\n",
    "Чи є в нас пропуски в даних?"
   ]
  },
  {
   "cell_type": "code",
   "execution_count": 16,
   "metadata": {},
   "outputs": [
    {
     "data": {
      "image/png": "[encoded data removed]",
      "text/plain": [
       "<Figure size 864x432 with 1 Axes>"
      ]
     },
     "metadata": {
      "needs_background": "light"
     },
     "output_type": "display_data"
    }
   ],
   "source": [
    "df_copy = pd.DataFrame()\n",
    "df_copy = df[['started_at_dt']]\n",
    "df_copy['1'] = 1\n",
    "\n",
    "fig, ax = plt.subplots()\n",
    "ax.scatter(x=df_copy['started_at_dt'], y=df_copy['1'])\n",
    "ax.set_title('Timeline')\n",
    "ax.set_xlabel('Дата')\n",
    "plt.show()"
   ]
  },
  {
   "cell_type": "markdown",
   "metadata": {},
   "source": [
    "Бачимо, що пропуск є. На початку 2020 року. Це схоже на зупинку роботи сервісу на зимовий час. В 2021 та 2022 таких зупинок не було."
   ]
  },
  {
   "cell_type": "code",
   "execution_count": 34,
   "metadata": {},
   "outputs": [
    {
     "name": "stdout",
     "output_type": "stream",
     "text": [
      "Зимова перерва між: \n",
      "2019-12-08 22:59:18\n",
      "2020-03-17 23:11:09\n"
     ]
    }
   ],
   "source": [
    "print(\"Зимова перерва між: \")\n",
    "print(df_copy[df_copy['year'] == 2019]['started_at_dt'].max())\n",
    "print(df_copy[df_copy['year'] == 2020]['started_at_dt'].min())"
   ]
  },
  {
   "cell_type": "markdown",
   "metadata": {},
   "source": [
    "### Завдання 2\n",
    "Подивитись динаміку кількості поїздок по роках.\n",
    "\n",
    "Знаю, що 2019 і 2022 неповні."
   ]
  },
  {
   "cell_type": "code",
   "execution_count": 35,
   "metadata": {},
   "outputs": [],
   "source": [
    "df['start_year'] = df['started_at_dt'].apply(lambda x: x.year)"
   ]
  },
  {
   "cell_type": "code",
   "execution_count": 36,
   "metadata": {},
   "outputs": [
    {
     "data": {
      "text/plain": [
       "Text(0.5, 0, 'Рік')"
      ]
     },
     "execution_count": 36,
     "metadata": {},
     "output_type": "execute_result"
    },
    {
     "data": {
      "image/png": "[encoded data removed]",
      "text/plain": [
       "<Figure size 864x432 with 1 Axes>"
      ]
     },
     "metadata": {
      "needs_background": "light"
     },
     "output_type": "display_data"
    }
   ],
   "source": [
    "fig, ax = plt.subplots()\n",
    "df['start_year'].plot.hist(xticks=df['start_year'].unique(), ax=ax)\n",
    "ax.set_title('Динаміка зміни кількості поїздок по роках')\n",
    "ax.set_ylabel('К-ть поїздок')\n",
    "ax.set_xlabel(\"Рік\")"
   ]
  },
  {
   "cell_type": "markdown",
   "metadata": {},
   "source": [
    "__Ідея:__ подивитися зміну по другому кварталу кожного року, дані є. Це не вписується в питання про зміну трималості оренди, але цікаво в загальному. Бо виглядає ніби велосипеди втрачають актуальність... Чи варто це робити?"
   ]
  },
  {
   "cell_type": "markdown",
   "metadata": {},
   "source": [
    "### Завдання 3\n",
    "Зміна трималості оренди велосипедів в залежності від часу доби."
   ]
  },
  {
   "cell_type": "code",
   "execution_count": 43,
   "metadata": {},
   "outputs": [
    {
     "name": "stdout",
     "output_type": "stream",
     "text": [
      "Duration stats: (in seconds)\n",
      "count:  5833647\n",
      "mean:  781.3606694062908\n",
      "median:  540.0\n",
      "min:  61\n",
      "max:  8685730\n"
     ]
    }
   ],
   "source": [
    "print(\"Duration stats: (in seconds)\")\n",
    "print('count: ', df['duration'].count())\n",
    "print('mean: ', df['duration'].mean())\n",
    "print('median: ', df['duration'].median())\n",
    "print('min: ', df['duration'].min())\n",
    "print('max: ', df['duration'].max())"
   ]
  },
  {
   "cell_type": "code",
   "execution_count": 45,
   "metadata": {},
   "outputs": [
    {
     "data": {
      "text/plain": [
       "100.5292824074074"
      ]
     },
     "execution_count": 45,
     "metadata": {},
     "output_type": "execute_result"
    }
   ],
   "source": [
    "8685730 / 60 / 60 / 24"
   ]
  },
  {
   "cell_type": "code",
   "execution_count": 46,
   "metadata": {},
   "outputs": [
    {
     "data": {
      "text/plain": [
       "{'whiskers': [<matplotlib.lines.Line2D at 0x1acc98af0>,\n",
       "  <matplotlib.lines.Line2D at 0x1acc98dc0>],\n",
       " 'caps': [<matplotlib.lines.Line2D at 0x1acca8190>,\n",
       "  <matplotlib.lines.Line2D at 0x1acca83a0>],\n",
       " 'boxes': [<matplotlib.lines.Line2D at 0x1acc98820>],\n",
       " 'medians': [<matplotlib.lines.Line2D at 0x1acca8670>],\n",
       " 'fliers': [<matplotlib.lines.Line2D at 0x1acca8940>],\n",
       " 'means': []}"
      ]
     },
     "execution_count": 46,
     "metadata": {},
     "output_type": "execute_result"
    },
    {
     "data": {
      "image/png": "[encoded data removed]",
      "text/plain": [
       "<Figure size 864x432 with 1 Axes>"
      ]
     },
     "metadata": {
      "needs_background": "light"
     },
     "output_type": "display_data"
    }
   ],
   "source": [
    "plt.boxplot(df['duration'])"
   ]
  },
  {
   "cell_type": "markdown",
   "metadata": {},
   "source": [
    "Бачимо, що один явний викид з триивалістю більше 100 днів. Його можна (треба) викинути, щоб не впливав на середнє."
   ]
  },
  {
   "cell_type": "code",
   "execution_count": 48,
   "metadata": {},
   "outputs": [
    {
     "data": {
      "text/html": [
       "<div>\n",
       "<style scoped>\n",
       "    .dataframe tbody tr th:only-of-type {\n",
       "        vertical-align: middle;\n",
       "    }\n",
       "\n",
       "    .dataframe tbody tr th {\n",
       "        vertical-align: top;\n",
       "    }\n",
       "\n",
       "    .dataframe thead th {\n",
       "        text-align: right;\n",
       "    }\n",
       "</style>\n",
       "<table border=\"1\" class=\"dataframe\">\n",
       "  <thead>\n",
       "    <tr style=\"text-align: right;\">\n",
       "      <th></th>\n",
       "      <th>started_at</th>\n",
       "      <th>ended_at</th>\n",
       "      <th>duration</th>\n",
       "      <th>start_station_id</th>\n",
       "      <th>start_station_name</th>\n",
       "      <th>start_station_description</th>\n",
       "      <th>start_station_latitude</th>\n",
       "      <th>start_station_longitude</th>\n",
       "      <th>end_station_id</th>\n",
       "      <th>end_station_name</th>\n",
       "      <th>end_station_description</th>\n",
       "      <th>end_station_latitude</th>\n",
       "      <th>end_station_longitude</th>\n",
       "      <th>started_at_dt</th>\n",
       "      <th>ended_at_dt</th>\n",
       "      <th>start_year</th>\n",
       "    </tr>\n",
       "  </thead>\n",
       "  <tbody>\n",
       "    <tr>\n",
       "      <th>107381</th>\n",
       "      <td>2020-06-12 22:58:29.631000+00:00</td>\n",
       "      <td>2020-09-21 11:40:40.126000+00:00</td>\n",
       "      <td>8685730</td>\n",
       "      <td>424</td>\n",
       "      <td>Birkelunden</td>\n",
       "      <td>langs Seilduksgata</td>\n",
       "      <td>59.925611</td>\n",
       "      <td>10.760926</td>\n",
       "      <td>489</td>\n",
       "      <td>Torggata</td>\n",
       "      <td>ved Bernt Ankers gate</td>\n",
       "      <td>59.915983</td>\n",
       "      <td>10.751551</td>\n",
       "      <td>2020-06-12 22:58:29</td>\n",
       "      <td>2020-09-21 11:40:40</td>\n",
       "      <td>2020</td>\n",
       "    </tr>\n",
       "  </tbody>\n",
       "</table>\n",
       "</div>"
      ],
      "text/plain": [
       "                              started_at                          ended_at  \\\n",
       "107381  2020-06-12 22:58:29.631000+00:00  2020-09-21 11:40:40.126000+00:00   \n",
       "\n",
       "       duration start_station_id start_station_name start_station_description  \\\n",
       "107381  8685730              424        Birkelunden        langs Seilduksgata   \n",
       "\n",
       "       start_station_latitude start_station_longitude end_station_id  \\\n",
       "107381              59.925611               10.760926            489   \n",
       "\n",
       "       end_station_name end_station_description end_station_latitude  \\\n",
       "107381         Torggata   ved Bernt Ankers gate            59.915983   \n",
       "\n",
       "       end_station_longitude       started_at_dt         ended_at_dt  \\\n",
       "107381             10.751551 2020-06-12 22:58:29 2020-09-21 11:40:40   \n",
       "\n",
       "        start_year  \n",
       "107381        2020  "
      ]
     },
     "execution_count": 48,
     "metadata": {},
     "output_type": "execute_result"
    }
   ],
   "source": [
    "df[df['duration'] == 8685730]"
   ]
  },
  {
   "cell_type": "code",
   "execution_count": 49,
   "metadata": {},
   "outputs": [],
   "source": [
    "df_1 = df.drop(df[df['duration'] == 8685730].index)"
   ]
  },
  {
   "cell_type": "code",
   "execution_count": 50,
   "metadata": {},
   "outputs": [],
   "source": [
    "df_1['start_hour'] = df_1['started_at_dt'].apply(lambda x: x.hour)"
   ]
  },
  {
   "cell_type": "code",
   "execution_count": 51,
   "metadata": {},
   "outputs": [],
   "source": [
    "df_hour_duration_sum = df_1[['duration', 'start_hour']].groupby(['start_hour']).sum()\n",
    "df_hour_duration_avg = df_1[['duration', 'start_hour']].groupby(['start_hour']).mean()\n",
    "df_hour_duration_median = df_1[['duration', 'start_hour']].groupby(['start_hour']).median()\n",
    "df_hour_count = df_1[['duration', 'start_hour']].groupby(['start_hour']).count()"
   ]
  },
  {
   "cell_type": "code",
   "execution_count": 57,
   "metadata": {},
   "outputs": [
    {
     "data": {
      "image/png": "[encoded data removed]",
      "text/plain": [
       "<Figure size 864x432 with 2 Axes>"
      ]
     },
     "metadata": {
      "needs_background": "light"
     },
     "output_type": "display_data"
    }
   ],
   "source": [
    "fig, ax = plt.subplots()\n",
    "\n",
    "ax_l = ax.twinx()\n",
    "ax.plot(df_hour_duration_sum)\n",
    "ax.set_ylabel('Sum duration')\n",
    "ax.set_xlabel('Hour')\n",
    "ax.xaxis.set_major_locator(MultipleLocator(1))\n",
    "ax.xaxis.grid(True)\n",
    "ax_l.plot(df_hour_count, color='orange')\n",
    "ax_l.set_ylabel('Count')\n",
    "plt.show()"
   ]
  },
  {
   "cell_type": "code",
   "execution_count": 63,
   "metadata": {},
   "outputs": [
    {
     "data": {
      "text/plain": [
       "<matplotlib.legend.Legend at 0x1af50dd90>"
      ]
     },
     "execution_count": 63,
     "metadata": {},
     "output_type": "execute_result"
    },
    {
     "data": {
      "image/png": "[encoded data removed]",
      "text/plain": [
       "<Figure size 864x432 with 1 Axes>"
      ]
     },
     "metadata": {
      "needs_background": "light"
     },
     "output_type": "display_data"
    }
   ],
   "source": [
    "fig, ax = plt.subplots()\n",
    "\n",
    "ax.plot(df_hour_duration_avg, label='average')\n",
    "ax.plot(df_hour_duration_median, label='median')\n",
    "ax.set_xlabel('Hour')\n",
    "ax.set_ylabel('Duration, s')\n",
    "ax.xaxis.set_major_locator(MultipleLocator(1))\n",
    "ax.xaxis.grid(True)\n",
    "ax.legend()\n",
    "plt.show()"
   ]
  },
  {
   "cell_type": "markdown",
   "metadata": {},
   "source": [
    "Презентовані вище дані в таблиці"
   ]
  },
  {
   "cell_type": "code",
   "execution_count": 66,
   "metadata": {},
   "outputs": [],
   "source": [
    "df_2 = pd.concat([df_hour_duration_sum['duration'].rename('duration_sum'), \n",
    "                 df_hour_duration_avg['duration'].rename('duration_mean'), \n",
    "                 df_hour_duration_median['duration']. rename('duration_median'),\n",
    "                 df_hour_count['duration'].rename('count')], \n",
    "                axis=1)"
   ]
  },
  {
   "cell_type": "code",
   "execution_count": 67,
   "metadata": {},
   "outputs": [
    {
     "data": {
      "text/html": [
       "<div>\n",
       "<style scoped>\n",
       "    .dataframe tbody tr th:only-of-type {\n",
       "        vertical-align: middle;\n",
       "    }\n",
       "\n",
       "    .dataframe tbody tr th {\n",
       "        vertical-align: top;\n",
       "    }\n",
       "\n",
       "    .dataframe thead th {\n",
       "        text-align: right;\n",
       "    }\n",
       "</style>\n",
       "<table border=\"1\" class=\"dataframe\">\n",
       "  <thead>\n",
       "    <tr style=\"text-align: right;\">\n",
       "      <th></th>\n",
       "      <th>duration_sum</th>\n",
       "      <th>duration_mean</th>\n",
       "      <th>duration_median</th>\n",
       "      <th>count</th>\n",
       "    </tr>\n",
       "    <tr>\n",
       "      <th>start_hour</th>\n",
       "      <th></th>\n",
       "      <th></th>\n",
       "      <th></th>\n",
       "      <th></th>\n",
       "    </tr>\n",
       "  </thead>\n",
       "  <tbody>\n",
       "    <tr>\n",
       "      <th>0</th>\n",
       "      <td>98986</td>\n",
       "      <td>1252.987342</td>\n",
       "      <td>498.0</td>\n",
       "      <td>79</td>\n",
       "    </tr>\n",
       "    <tr>\n",
       "      <th>1</th>\n",
       "      <td>67452</td>\n",
       "      <td>1322.588235</td>\n",
       "      <td>416.0</td>\n",
       "      <td>51</td>\n",
       "    </tr>\n",
       "    <tr>\n",
       "      <th>2</th>\n",
       "      <td>10644</td>\n",
       "      <td>560.210526</td>\n",
       "      <td>507.0</td>\n",
       "      <td>19</td>\n",
       "    </tr>\n",
       "    <tr>\n",
       "      <th>3</th>\n",
       "      <td>13973987</td>\n",
       "      <td>646.375272</td>\n",
       "      <td>422.0</td>\n",
       "      <td>21619</td>\n",
       "    </tr>\n",
       "    <tr>\n",
       "      <th>4</th>\n",
       "      <td>55963869</td>\n",
       "      <td>551.841174</td>\n",
       "      <td>426.0</td>\n",
       "      <td>101413</td>\n",
       "    </tr>\n",
       "    <tr>\n",
       "      <th>5</th>\n",
       "      <td>180887174</td>\n",
       "      <td>581.967615</td>\n",
       "      <td>473.0</td>\n",
       "      <td>310820</td>\n",
       "    </tr>\n",
       "    <tr>\n",
       "      <th>6</th>\n",
       "      <td>250225469</td>\n",
       "      <td>604.434165</td>\n",
       "      <td>483.0</td>\n",
       "      <td>413983</td>\n",
       "    </tr>\n",
       "    <tr>\n",
       "      <th>7</th>\n",
       "      <td>168371891</td>\n",
       "      <td>657.887730</td>\n",
       "      <td>484.0</td>\n",
       "      <td>255928</td>\n",
       "    </tr>\n",
       "    <tr>\n",
       "      <th>8</th>\n",
       "      <td>155068028</td>\n",
       "      <td>769.961956</td>\n",
       "      <td>515.0</td>\n",
       "      <td>201397</td>\n",
       "    </tr>\n",
       "    <tr>\n",
       "      <th>9</th>\n",
       "      <td>200150269</td>\n",
       "      <td>855.730669</td>\n",
       "      <td>549.0</td>\n",
       "      <td>233894</td>\n",
       "    </tr>\n",
       "    <tr>\n",
       "      <th>10</th>\n",
       "      <td>233853161</td>\n",
       "      <td>881.187867</td>\n",
       "      <td>568.0</td>\n",
       "      <td>265384</td>\n",
       "    </tr>\n",
       "    <tr>\n",
       "      <th>11</th>\n",
       "      <td>262489699</td>\n",
       "      <td>899.448656</td>\n",
       "      <td>580.0</td>\n",
       "      <td>291834</td>\n",
       "    </tr>\n",
       "    <tr>\n",
       "      <th>12</th>\n",
       "      <td>297402765</td>\n",
       "      <td>860.440820</td>\n",
       "      <td>574.0</td>\n",
       "      <td>345640</td>\n",
       "    </tr>\n",
       "    <tr>\n",
       "      <th>13</th>\n",
       "      <td>384422057</td>\n",
       "      <td>823.256424</td>\n",
       "      <td>570.0</td>\n",
       "      <td>466953</td>\n",
       "    </tr>\n",
       "    <tr>\n",
       "      <th>14</th>\n",
       "      <td>466943398</td>\n",
       "      <td>787.907940</td>\n",
       "      <td>570.0</td>\n",
       "      <td>592637</td>\n",
       "    </tr>\n",
       "    <tr>\n",
       "      <th>15</th>\n",
       "      <td>433679779</td>\n",
       "      <td>795.297639</td>\n",
       "      <td>562.0</td>\n",
       "      <td>545305</td>\n",
       "    </tr>\n",
       "    <tr>\n",
       "      <th>16</th>\n",
       "      <td>365956153</td>\n",
       "      <td>801.107134</td>\n",
       "      <td>562.0</td>\n",
       "      <td>456813</td>\n",
       "    </tr>\n",
       "    <tr>\n",
       "      <th>17</th>\n",
       "      <td>296965784</td>\n",
       "      <td>804.619601</td>\n",
       "      <td>559.0</td>\n",
       "      <td>369076</td>\n",
       "    </tr>\n",
       "    <tr>\n",
       "      <th>18</th>\n",
       "      <td>240424065</td>\n",
       "      <td>821.917656</td>\n",
       "      <td>557.0</td>\n",
       "      <td>292516</td>\n",
       "    </tr>\n",
       "    <tr>\n",
       "      <th>19</th>\n",
       "      <td>190054780</td>\n",
       "      <td>813.740457</td>\n",
       "      <td>555.0</td>\n",
       "      <td>233557</td>\n",
       "    </tr>\n",
       "    <tr>\n",
       "      <th>20</th>\n",
       "      <td>159476735</td>\n",
       "      <td>789.004448</td>\n",
       "      <td>537.0</td>\n",
       "      <td>202124</td>\n",
       "    </tr>\n",
       "    <tr>\n",
       "      <th>21</th>\n",
       "      <td>115824763</td>\n",
       "      <td>796.402262</td>\n",
       "      <td>530.0</td>\n",
       "      <td>145435</td>\n",
       "    </tr>\n",
       "    <tr>\n",
       "      <th>22</th>\n",
       "      <td>71970624</td>\n",
       "      <td>893.945074</td>\n",
       "      <td>539.0</td>\n",
       "      <td>80509</td>\n",
       "    </tr>\n",
       "    <tr>\n",
       "      <th>23</th>\n",
       "      <td>5200904</td>\n",
       "      <td>783.622721</td>\n",
       "      <td>486.0</td>\n",
       "      <td>6637</td>\n",
       "    </tr>\n",
       "  </tbody>\n",
       "</table>\n",
       "</div>"
      ],
      "text/plain": [
       "            duration_sum  duration_mean  duration_median   count\n",
       "start_hour                                                      \n",
       "0                  98986    1252.987342            498.0      79\n",
       "1                  67452    1322.588235            416.0      51\n",
       "2                  10644     560.210526            507.0      19\n",
       "3               13973987     646.375272            422.0   21619\n",
       "4               55963869     551.841174            426.0  101413\n",
       "5              180887174     581.967615            473.0  310820\n",
       "6              250225469     604.434165            483.0  413983\n",
       "7              168371891     657.887730            484.0  255928\n",
       "8              155068028     769.961956            515.0  201397\n",
       "9              200150269     855.730669            549.0  233894\n",
       "10             233853161     881.187867            568.0  265384\n",
       "11             262489699     899.448656            580.0  291834\n",
       "12             297402765     860.440820            574.0  345640\n",
       "13             384422057     823.256424            570.0  466953\n",
       "14             466943398     787.907940            570.0  592637\n",
       "15             433679779     795.297639            562.0  545305\n",
       "16             365956153     801.107134            562.0  456813\n",
       "17             296965784     804.619601            559.0  369076\n",
       "18             240424065     821.917656            557.0  292516\n",
       "19             190054780     813.740457            555.0  233557\n",
       "20             159476735     789.004448            537.0  202124\n",
       "21             115824763     796.402262            530.0  145435\n",
       "22              71970624     893.945074            539.0   80509\n",
       "23               5200904     783.622721            486.0    6637"
      ]
     },
     "execution_count": 67,
     "metadata": {},
     "output_type": "execute_result"
    }
   ],
   "source": [
    "df_2"
   ]
  },
  {
   "cell_type": "markdown",
   "metadata": {},
   "source": [
    "### Завдання 3\n",
    "День тижня"
   ]
  },
  {
   "cell_type": "code",
   "execution_count": 75,
   "metadata": {},
   "outputs": [
    {
     "data": {
      "text/html": [
       "<div>\n",
       "<style scoped>\n",
       "    .dataframe tbody tr th:only-of-type {\n",
       "        vertical-align: middle;\n",
       "    }\n",
       "\n",
       "    .dataframe tbody tr th {\n",
       "        vertical-align: top;\n",
       "    }\n",
       "\n",
       "    .dataframe thead th {\n",
       "        text-align: right;\n",
       "    }\n",
       "</style>\n",
       "<table border=\"1\" class=\"dataframe\">\n",
       "  <thead>\n",
       "    <tr style=\"text-align: right;\">\n",
       "      <th></th>\n",
       "      <th>started_at</th>\n",
       "      <th>ended_at</th>\n",
       "      <th>duration</th>\n",
       "      <th>start_station_id</th>\n",
       "      <th>start_station_name</th>\n",
       "      <th>start_station_description</th>\n",
       "      <th>start_station_latitude</th>\n",
       "      <th>start_station_longitude</th>\n",
       "      <th>end_station_id</th>\n",
       "      <th>end_station_name</th>\n",
       "      <th>end_station_description</th>\n",
       "      <th>end_station_latitude</th>\n",
       "      <th>end_station_longitude</th>\n",
       "      <th>started_at_dt</th>\n",
       "      <th>ended_at_dt</th>\n",
       "      <th>start_year</th>\n",
       "      <th>start_hour</th>\n",
       "      <th>day_of_week</th>\n",
       "    </tr>\n",
       "  </thead>\n",
       "  <tbody>\n",
       "    <tr>\n",
       "      <th>0</th>\n",
       "      <td>2019-04-02 22:18:47.926000+00:00</td>\n",
       "      <td>2019-04-02 22:24:25.427000+00:00</td>\n",
       "      <td>337</td>\n",
       "      <td>401</td>\n",
       "      <td>Schous plass</td>\n",
       "      <td>nærmest Thorvald Meyers gate</td>\n",
       "      <td>59.920259</td>\n",
       "      <td>10.760629</td>\n",
       "      <td>381</td>\n",
       "      <td>Grønlands torg</td>\n",
       "      <td>ved Tøyenbekken</td>\n",
       "      <td>59.91252</td>\n",
       "      <td>10.76224</td>\n",
       "      <td>2019-04-02 22:18:47</td>\n",
       "      <td>2019-04-02 22:24:25</td>\n",
       "      <td>2019</td>\n",
       "      <td>22</td>\n",
       "      <td>2</td>\n",
       "    </tr>\n",
       "    <tr>\n",
       "      <th>1</th>\n",
       "      <td>2019-04-02 22:25:54.203000+00:00</td>\n",
       "      <td>2019-04-02 22:27:36.114000+00:00</td>\n",
       "      <td>101</td>\n",
       "      <td>556</td>\n",
       "      <td>Pilestredet</td>\n",
       "      <td>ved Sporveisgata</td>\n",
       "      <td>59.926224</td>\n",
       "      <td>10.729625</td>\n",
       "      <td>556</td>\n",
       "      <td>Pilestredet</td>\n",
       "      <td>ved Sporveisgata</td>\n",
       "      <td>59.926224</td>\n",
       "      <td>10.729625</td>\n",
       "      <td>2019-04-02 22:25:54</td>\n",
       "      <td>2019-04-02 22:27:36</td>\n",
       "      <td>2019</td>\n",
       "      <td>22</td>\n",
       "      <td>2</td>\n",
       "    </tr>\n",
       "    <tr>\n",
       "      <th>2</th>\n",
       "      <td>2019-04-02 22:26:39.308000+00:00</td>\n",
       "      <td>2019-04-02 22:31:59.445000+00:00</td>\n",
       "      <td>320</td>\n",
       "      <td>561</td>\n",
       "      <td>Kirkeveien</td>\n",
       "      <td>nord for Gørbitz' gate</td>\n",
       "      <td>59.933558</td>\n",
       "      <td>10.726426</td>\n",
       "      <td>471</td>\n",
       "      <td>Marienlyst</td>\n",
       "      <td>i Suhms gate</td>\n",
       "      <td>59.932454</td>\n",
       "      <td>10.721769</td>\n",
       "      <td>2019-04-02 22:26:39</td>\n",
       "      <td>2019-04-02 22:31:59</td>\n",
       "      <td>2019</td>\n",
       "      <td>22</td>\n",
       "      <td>2</td>\n",
       "    </tr>\n",
       "    <tr>\n",
       "      <th>3</th>\n",
       "      <td>2019-04-03 03:09:58.992000+00:00</td>\n",
       "      <td>2019-04-03 03:12:00.589000+00:00</td>\n",
       "      <td>121</td>\n",
       "      <td>393</td>\n",
       "      <td>Hans Nielsen Hauges plass</td>\n",
       "      <td>Mellom Åsengata og Nordkappgata</td>\n",
       "      <td>59.939244</td>\n",
       "      <td>10.774319</td>\n",
       "      <td>393</td>\n",
       "      <td>Hans Nielsen Hauges plass</td>\n",
       "      <td>Mellom Åsengata og Nordkappgata</td>\n",
       "      <td>59.939244</td>\n",
       "      <td>10.774319</td>\n",
       "      <td>2019-04-03 03:09:58</td>\n",
       "      <td>2019-04-03 03:12:00</td>\n",
       "      <td>2019</td>\n",
       "      <td>3</td>\n",
       "      <td>3</td>\n",
       "    </tr>\n",
       "    <tr>\n",
       "      <th>4</th>\n",
       "      <td>2019-04-03 03:10:02.415000+00:00</td>\n",
       "      <td>2019-04-03 03:14:44.537000+00:00</td>\n",
       "      <td>282</td>\n",
       "      <td>597</td>\n",
       "      <td>Fredensborg</td>\n",
       "      <td>ved rundkjøringen</td>\n",
       "      <td>59.920995</td>\n",
       "      <td>10.750358</td>\n",
       "      <td>557</td>\n",
       "      <td>Akersgata</td>\n",
       "      <td>ved Grensen</td>\n",
       "      <td>59.914197</td>\n",
       "      <td>10.742883</td>\n",
       "      <td>2019-04-03 03:10:02</td>\n",
       "      <td>2019-04-03 03:14:44</td>\n",
       "      <td>2019</td>\n",
       "      <td>3</td>\n",
       "      <td>3</td>\n",
       "    </tr>\n",
       "  </tbody>\n",
       "</table>\n",
       "</div>"
      ],
      "text/plain": [
       "                         started_at                          ended_at  \\\n",
       "0  2019-04-02 22:18:47.926000+00:00  2019-04-02 22:24:25.427000+00:00   \n",
       "1  2019-04-02 22:25:54.203000+00:00  2019-04-02 22:27:36.114000+00:00   \n",
       "2  2019-04-02 22:26:39.308000+00:00  2019-04-02 22:31:59.445000+00:00   \n",
       "3  2019-04-03 03:09:58.992000+00:00  2019-04-03 03:12:00.589000+00:00   \n",
       "4  2019-04-03 03:10:02.415000+00:00  2019-04-03 03:14:44.537000+00:00   \n",
       "\n",
       "  duration start_station_id         start_station_name  \\\n",
       "0      337              401               Schous plass   \n",
       "1      101              556                Pilestredet   \n",
       "2      320              561                 Kirkeveien   \n",
       "3      121              393  Hans Nielsen Hauges plass   \n",
       "4      282              597                Fredensborg   \n",
       "\n",
       "         start_station_description start_station_latitude  \\\n",
       "0     nærmest Thorvald Meyers gate              59.920259   \n",
       "1                 ved Sporveisgata              59.926224   \n",
       "2           nord for Gørbitz' gate              59.933558   \n",
       "3  Mellom Åsengata og Nordkappgata              59.939244   \n",
       "4                ved rundkjøringen              59.920995   \n",
       "\n",
       "  start_station_longitude end_station_id           end_station_name  \\\n",
       "0               10.760629            381             Grønlands torg   \n",
       "1               10.729625            556                Pilestredet   \n",
       "2               10.726426            471                 Marienlyst   \n",
       "3               10.774319            393  Hans Nielsen Hauges plass   \n",
       "4               10.750358            557                  Akersgata   \n",
       "\n",
       "           end_station_description end_station_latitude end_station_longitude  \\\n",
       "0                  ved Tøyenbekken             59.91252              10.76224   \n",
       "1                 ved Sporveisgata            59.926224             10.729625   \n",
       "2                     i Suhms gate            59.932454             10.721769   \n",
       "3  Mellom Åsengata og Nordkappgata            59.939244             10.774319   \n",
       "4                      ved Grensen            59.914197             10.742883   \n",
       "\n",
       "        started_at_dt         ended_at_dt  start_year  start_hour day_of_week  \n",
       "0 2019-04-02 22:18:47 2019-04-02 22:24:25        2019          22           2  \n",
       "1 2019-04-02 22:25:54 2019-04-02 22:27:36        2019          22           2  \n",
       "2 2019-04-02 22:26:39 2019-04-02 22:31:59        2019          22           2  \n",
       "3 2019-04-03 03:09:58 2019-04-03 03:12:00        2019           3           3  \n",
       "4 2019-04-03 03:10:02 2019-04-03 03:14:44        2019           3           3  "
      ]
     },
     "execution_count": 75,
     "metadata": {},
     "output_type": "execute_result"
    }
   ],
   "source": [
    "df_3 = df_1\n",
    "df_3['day_of_week'] = df_3['started_at_dt'].apply(lambda x: x.strftime('%w'))\n",
    "df_3.head()"
   ]
  },
  {
   "cell_type": "code",
   "execution_count": 76,
   "metadata": {},
   "outputs": [],
   "source": [
    "df_day_duration_sum = df_3[['duration', 'day_of_week']].groupby(['day_of_week']).sum()\n",
    "df_day_duration_avg = df_3[['duration', 'day_of_week']].groupby(['day_of_week']).mean()\n",
    "df_day_duration_median = df_3[['duration', 'day_of_week']].groupby(['day_of_week']).median()\n",
    "df_day_count = df_3[['duration', 'day_of_week']].groupby(['day_of_week']).count()"
   ]
  },
  {
   "cell_type": "code",
   "execution_count": 82,
   "metadata": {},
   "outputs": [
    {
     "data": {
      "image/png": "[encoded data removed]",
      "text/plain": [
       "<Figure size 864x432 with 2 Axes>"
      ]
     },
     "metadata": {
      "needs_background": "light"
     },
     "output_type": "display_data"
    }
   ],
   "source": [
    "fig, ax = plt.subplots()\n",
    "\n",
    "ax_l = ax.twinx()\n",
    "ax.plot(df_day_duration_sum)\n",
    "ax.set_ylabel('Sum duration')\n",
    "ax.set_xlabel('Day')\n",
    "ax.xaxis.set_major_locator(MultipleLocator(1))\n",
    "ax.xaxis.grid(True)\n",
    "ax_l.plot(df_day_count, color='orange')\n",
    "ax_l.set_ylabel('Count')\n",
    "ax.set_xticks(range(7), ['Sunday', 'Monday', 'Tuesday', 'Wednesday', 'Thursday', 'Friday', 'Saturday'])\n",
    "plt.show()"
   ]
  },
  {
   "cell_type": "code",
   "execution_count": 83,
   "metadata": {},
   "outputs": [
    {
     "data": {
      "image/png": "[encoded data removed]",
      "text/plain": [
       "<Figure size 864x432 with 1 Axes>"
      ]
     },
     "metadata": {
      "needs_background": "light"
     },
     "output_type": "display_data"
    }
   ],
   "source": [
    "fig, ax = plt.subplots()\n",
    "\n",
    "ax.plot(df_day_duration_avg, label='average')\n",
    "ax.plot(df_day_duration_median, label='median')\n",
    "ax.set_xlabel('Day of week')\n",
    "ax.set_ylabel('Duration, s')\n",
    "ax.xaxis.set_major_locator(MultipleLocator(1))\n",
    "ax.xaxis.grid(True)\n",
    "ax.set_xticks(range(7), ['Sunday', 'Monday', 'Tuesday', 'Wednesday', 'Thursday', 'Friday', 'Saturday'])\n",
    "ax.legend()\n",
    "plt.show()"
   ]
  },
  {
   "cell_type": "markdown",
   "metadata": {},
   "source": [
    "Тут вже цікаво: Виходитьь, що на вихідниих кількість поїздок зменшується, але їхня тривалість збільшується."
   ]
  },
  {
   "cell_type": "code",
   "execution_count": null,
   "metadata": {},
   "outputs": [],
   "source": []
  }
 ],
 "metadata": {
  "kernelspec": {
   "display_name": "Python 3 (ipykernel)",
   "language": "python",
   "name": "python3"
  },
  "language_info": {
   "codemirror_mode": {
    "name": "ipython",
    "version": 3
   },
   "file_extension": ".py",
   "mimetype": "text/x-python",
   "name": "python",
   "nbconvert_exporter": "python",
   "pygments_lexer": "ipython3",
   "version": "3.9.9"
  },
  "vscode": {
   "interpreter": {
    "hash": "aee8b7b246df8f9039afb4144a1f6fd8d2ca17a180786b69acc140d282b71a49"
   }
  }
 },
 "nbformat": 4,
 "nbformat_minor": 2
}
