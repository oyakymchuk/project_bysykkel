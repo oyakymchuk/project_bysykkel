{
 "cells": [
  {
   "cell_type": "markdown",
   "id": "970e3be1",
   "metadata": {},
   "source": [
    "Цей код створює 2 окремі датафрейми:\n",
    "- df_duration_ouliers - містить аутлаєри по часу поїздки > 24 годин.\n",
    "- df - містить сирі дані очищені від аутлаєрів > 24 годин.\n",
    "\n",
    "В обох датафреймах міститься ще 2 додаткові колонки: started_at_dt і ended_at_dt, що містять час початку і кінця поїздки в типі datetime в таймзомі міста Осло."
   ]
  },
  {
   "cell_type": "code",
   "execution_count": 40,
   "id": "670b43b4",
   "metadata": {},
   "outputs": [],
   "source": [
    "import pandas as pd\n",
    "import datetime\n",
    "import time\n",
    "import helpful_functions\n",
    "import pytz"
   ]
  },
  {
   "cell_type": "code",
   "execution_count": 56,
   "id": "cc3750e8",
   "metadata": {},
   "outputs": [],
   "source": [
    "city_name = 'oslo'        # можливі варіанти: olso, bergen, trondheim\n",
    "\n",
    "start_month = 4           # 1 - 12\n",
    "start_year = 2019         # 2019 - 2022\n",
    "\n",
    "end_month = 6             # 1 - 12\n",
    "end_year = 2022           # 2019 - 2022\n",
    "\n",
    "data_folder = './data'"
   ]
  },
  {
   "cell_type": "code",
   "execution_count": 57,
   "id": "f9d9316b",
   "metadata": {},
   "outputs": [],
   "source": [
    "dates_str_list = helpful_functions.generate_months_in_period(\n",
    "    start_month=start_month, \n",
    "    start_year=start_year, \n",
    "    end_month=end_month, \n",
    "    end_year=end_year, \n",
    "    sep=\"_\")"
   ]
  },
  {
   "cell_type": "code",
   "execution_count": 58,
   "id": "ab949bad",
   "metadata": {},
   "outputs": [
    {
     "name": "stdout",
     "output_type": "stream",
     "text": [
      "Зчитування:  48.43748593330383 с. \n",
      "\n",
      "Розмір початкової таблиці:  (5833647, 13)\n"
     ]
    }
   ],
   "source": [
    "start = time.time()\n",
    "df = pd.read_csv(f\"{data_folder}/{city_name}/{city_name}_{dates_str_list[0]}.csv\")\n",
    "for date in dates_str_list[1:]:\n",
    "    try:\n",
    "        df = pd.concat([df, pd.read_csv(f\"{data_folder}/{city_name}/{city_name}_{date}.csv\")])\n",
    "    except:\n",
    "        pass\n",
    "end = time.time()\n",
    "print(\"Зчитування: \", end - start, \"с. \\n\")\n",
    "print(\"Розмір початкової таблиці: \", df.shape)"
   ]
  },
  {
   "cell_type": "code",
   "execution_count": null,
   "id": "63733820",
   "metadata": {},
   "outputs": [],
   "source": [
    "strptime_pattern = \"%Y-%m-%d %H:%M:%S%z\"\n",
    "timezone = pytz.timezone('Europe/Oslo')\n",
    "\n",
    "start = time.time()\n",
    "df['started_at_dt'] = df['started_at'].apply(lambda x: datetime.datetime.strptime(x[:-6].split('.')[0] + x[-6:], strptime_pattern).astimezone(timezone))\n",
    "df['ended_at_dt'] = df['ended_at'].apply(lambda x: datetime.datetime.strptime(x[:-6].split('.')[0] + x[-6:], strptime_pattern).astimezone(timezone))\n",
    "end = time.time()\n",
    "print(\"Трансформування: \", end - start, \"с.\")\n",
    "df.head()"
   ]
  },
  {
   "cell_type": "code",
   "execution_count": null,
   "id": "1ed5c9ce",
   "metadata": {},
   "outputs": [],
   "source": [
    "df_start_stations = df[['start_station_id',\n",
    "                        'start_station_name',\n",
    "                           'start_station_description', \n",
    "                           'start_station_latitude', \n",
    "                           'start_station_longitude']]"
   ]
  },
  {
   "cell_type": "code",
   "execution_count": null,
   "id": "38a3aa46",
   "metadata": {},
   "outputs": [],
   "source": [
    "df_start_stations = df_start_stations.drop_duplicates(subset=['start_station_id'],\n",
    "                                                     keep='last')"
   ]
  },
  {
   "cell_type": "code",
   "execution_count": null,
   "id": "7b74d7e9",
   "metadata": {},
   "outputs": [],
   "source": [
    "df_start_stations.shape"
   ]
  },
  {
   "cell_type": "code",
   "execution_count": null,
   "id": "23a14d83",
   "metadata": {},
   "outputs": [],
   "source": [
    "df_start_stations = df_start_stations.rename(columns={'start_station_id': 'station_id',\n",
    "                                                     'start_station_name': 'station_name',\n",
    "                                                     'start_station_description': 'station_description',\n",
    "                                                     'start_station_latitude': 'station_latitude',\n",
    "                                                     'start_station_longitude': 'station_longitude'})"
   ]
  },
  {
   "cell_type": "code",
   "execution_count": null,
   "id": "3ea9968a",
   "metadata": {},
   "outputs": [],
   "source": [
    "df_start_stations.to_csv(f'./data/{city_name}_stations.csv', index=False)"
   ]
  },
  {
   "cell_type": "code",
   "execution_count": null,
   "id": "d8249023",
   "metadata": {},
   "outputs": [],
   "source": [
    "df = df[['started_at_dt', 'ended_at_dt', 'duration', 'start_station_id', 'end_station_id']]"
   ]
  },
  {
   "cell_type": "code",
   "execution_count": null,
   "id": "2305226d",
   "metadata": {},
   "outputs": [],
   "source": [
    "df.shape"
   ]
  },
  {
   "cell_type": "code",
   "execution_count": null,
   "id": "5d0beea6",
   "metadata": {},
   "outputs": [],
   "source": []
  },
  {
   "cell_type": "markdown",
   "id": "9587be11",
   "metadata": {},
   "source": [
    "Створюємо 2 датафрейми: \n",
    "- df_duration_ouliers - містить аутлаєри по часу поїздки > 24 годин. Потрібний для подальшого аналізу цих аутлаєрів.\n",
    "- df - містить сирі дані очищені від аутлаєрів > 24 годин. Для подальшого аналізу."
   ]
  },
  {
   "cell_type": "code",
   "execution_count": null,
   "id": "9f9a65a1",
   "metadata": {},
   "outputs": [],
   "source": [
    "df_duration_outliers = df[df['duration'] > 24 * 60 * 60]\n",
    "df = df[df['duration'] <= 24 * 60 * 60]"
   ]
  },
  {
   "cell_type": "code",
   "execution_count": null,
   "id": "c2a8152d",
   "metadata": {},
   "outputs": [],
   "source": [
    "start = time.time()\n",
    "df.to_csv(f'./data/{city_name}_clear_rides_data.csv', index=False)\n",
    "end = time.time()\n",
    "end - start"
   ]
  },
  {
   "cell_type": "code",
   "execution_count": null,
   "id": "91dd3dc6",
   "metadata": {},
   "outputs": [],
   "source": [
    "start = time.time()\n",
    "df_duration_outliers.to_csv(f'./data/{city_name}_duration_outliers-stolen_bikes.csv', index=False)\n",
    "end = time.time()\n",
    "end - start"
   ]
  },
  {
   "cell_type": "code",
   "execution_count": null,
   "id": "3b6852c8",
   "metadata": {},
   "outputs": [],
   "source": []
  }
 ],
 "metadata": {
  "kernelspec": {
   "display_name": "Python 3 (ipykernel)",
   "language": "python",
   "name": "python3"
  },
  "language_info": {
   "codemirror_mode": {
    "name": "ipython",
    "version": 3
   },
   "file_extension": ".py",
   "mimetype": "text/x-python",
   "name": "python",
   "nbconvert_exporter": "python",
   "pygments_lexer": "ipython3",
   "version": "3.9.9"
  }
 },
 "nbformat": 4,
 "nbformat_minor": 5
}
