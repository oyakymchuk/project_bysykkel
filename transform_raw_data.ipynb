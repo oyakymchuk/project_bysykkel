{
 "cells": [
  {
   "cell_type": "markdown",
   "id": "970e3be1",
   "metadata": {},
   "source": [
    "Цей код створює 2 окремі датафрейми:\n",
    "- df_duration_ouliers - містить аутлаєри по часу поїздки > 24 годин.\n",
    "- df - містить сирі дані очищені від аутлаєрів > 24 годин.\n",
    "\n",
    "В обох датафреймах міститься ще 2 додаткові колонки: started_at_dt і ended_at_dt, що містять час початку і кінця поїздки в типі datetime в таймзомі міста Осло."
   ]
  },
  {
   "cell_type": "code",
   "execution_count": 5,
   "id": "670b43b4",
   "metadata": {},
   "outputs": [],
   "source": [
    "import pandas as pd\n",
    "import datetime\n",
    "import time\n",
    "import helpful_functions\n",
    "import pytz"
   ]
  },
  {
   "cell_type": "code",
   "execution_count": 6,
   "id": "cc3750e8",
   "metadata": {},
   "outputs": [],
   "source": [
    "city_name = 'bergen'        # можливі варіанти: olso, bergen, trondheim\n",
    "\n",
    "start_month = 6           # 1 - 12\n",
    "start_year = 2018         # 2019 - 2022\n",
    "\n",
    "end_month = 6             # 1 - 12\n",
    "end_year = 2022           # 2019 - 2022\n",
    "\n",
    "data_folder = './data'"
   ]
  },
  {
   "cell_type": "code",
   "execution_count": 7,
   "id": "f9d9316b",
   "metadata": {},
   "outputs": [],
   "source": [
    "dates_str_list = helpful_functions.generate_months_in_period(\n",
    "    start_month=start_month, \n",
    "    start_year=start_year, \n",
    "    end_month=end_month, \n",
    "    end_year=end_year, \n",
    "    sep=\"_\")"
   ]
  },
  {
   "cell_type": "code",
   "execution_count": 8,
   "id": "ab949bad",
   "metadata": {},
   "outputs": [
    {
     "name": "stdout",
     "output_type": "stream",
     "text": [
      "Зчитування:  21.169935941696167 с. \n",
      "\n",
      "Розмір початкової таблиці:  (3035172, 13)\n"
     ]
    }
   ],
   "source": [
    "start = time.time()\n",
    "df = pd.read_csv(f\"{data_folder}/{city_name}/{city_name}_{dates_str_list[0]}.csv\")\n",
    "for date in dates_str_list[1:]:\n",
    "    try:\n",
    "        df = pd.concat([df, pd.read_csv(f\"{data_folder}/{city_name}/{city_name}_{date}.csv\")])\n",
    "    except:\n",
    "        pass\n",
    "end = time.time()\n",
    "print(\"Зчитування: \", end - start, \"с. \\n\")\n",
    "print(\"Розмір початкової таблиці: \", df.shape)"
   ]
  },
  {
   "cell_type": "code",
   "execution_count": 12,
   "id": "32f69e8c",
   "metadata": {},
   "outputs": [
    {
     "data": {
      "text/plain": [
       "(715, 13)"
      ]
     },
     "execution_count": 12,
     "metadata": {},
     "output_type": "execute_result"
    }
   ],
   "source": [
    "df[(df['duration'] > 6 * 60 * 60) & (df['duration'] <= 24 * 60 * 60)].shape"
   ]
  },
  {
   "cell_type": "code",
   "execution_count": null,
   "id": "73fb5cf0",
   "metadata": {},
   "outputs": [],
   "source": []
  },
  {
   "cell_type": "code",
   "execution_count": 5,
   "id": "63733820",
   "metadata": {},
   "outputs": [
    {
     "name": "stdout",
     "output_type": "stream",
     "text": [
      "Трансформування:  0.03181004524230957 с.\n"
     ]
    },
    {
     "data": {
      "text/html": [
       "<div>\n",
       "<style scoped>\n",
       "    .dataframe tbody tr th:only-of-type {\n",
       "        vertical-align: middle;\n",
       "    }\n",
       "\n",
       "    .dataframe tbody tr th {\n",
       "        vertical-align: top;\n",
       "    }\n",
       "\n",
       "    .dataframe thead th {\n",
       "        text-align: right;\n",
       "    }\n",
       "</style>\n",
       "<table border=\"1\" class=\"dataframe\">\n",
       "  <thead>\n",
       "    <tr style=\"text-align: right;\">\n",
       "      <th></th>\n",
       "      <th>started_at</th>\n",
       "      <th>ended_at</th>\n",
       "      <th>duration</th>\n",
       "      <th>start_station_id</th>\n",
       "      <th>start_station_name</th>\n",
       "      <th>start_station_description</th>\n",
       "      <th>start_station_latitude</th>\n",
       "      <th>start_station_longitude</th>\n",
       "      <th>end_station_id</th>\n",
       "      <th>end_station_name</th>\n",
       "      <th>end_station_description</th>\n",
       "      <th>end_station_latitude</th>\n",
       "      <th>end_station_longitude</th>\n",
       "      <th>started_at_dt</th>\n",
       "      <th>ended_at_dt</th>\n",
       "    </tr>\n",
       "  </thead>\n",
       "  <tbody>\n",
       "    <tr>\n",
       "      <th>0</th>\n",
       "      <td>2018-06-29 10:45:12.736000+00:00</td>\n",
       "      <td>2018-06-29 11:05:10.430000+00:00</td>\n",
       "      <td>1197</td>\n",
       "      <td>3</td>\n",
       "      <td>Grieghallen</td>\n",
       "      <td></td>\n",
       "      <td>60.388167</td>\n",
       "      <td>5.328335</td>\n",
       "      <td>83</td>\n",
       "      <td>Bergen jernbanestasjon</td>\n",
       "      <td></td>\n",
       "      <td>60.390324</td>\n",
       "      <td>5.332440</td>\n",
       "      <td>2018-06-29 12:45:12+02:00</td>\n",
       "      <td>2018-06-29 13:05:10+02:00</td>\n",
       "    </tr>\n",
       "    <tr>\n",
       "      <th>1</th>\n",
       "      <td>2018-06-29 10:53:59.691000+00:00</td>\n",
       "      <td>2018-06-29 11:11:28.184000+00:00</td>\n",
       "      <td>1048</td>\n",
       "      <td>49</td>\n",
       "      <td>Studentsenteret UIB</td>\n",
       "      <td></td>\n",
       "      <td>60.387198</td>\n",
       "      <td>5.322980</td>\n",
       "      <td>75</td>\n",
       "      <td>Akvariet</td>\n",
       "      <td></td>\n",
       "      <td>60.399877</td>\n",
       "      <td>5.304686</td>\n",
       "      <td>2018-06-29 12:53:59+02:00</td>\n",
       "      <td>2018-06-29 13:11:28+02:00</td>\n",
       "    </tr>\n",
       "    <tr>\n",
       "      <th>2</th>\n",
       "      <td>2018-06-29 11:01:02.987000+00:00</td>\n",
       "      <td>2018-06-29 11:09:13.172000+00:00</td>\n",
       "      <td>490</td>\n",
       "      <td>58</td>\n",
       "      <td>Tårnplass</td>\n",
       "      <td></td>\n",
       "      <td>60.393755</td>\n",
       "      <td>5.321792</td>\n",
       "      <td>157</td>\n",
       "      <td>Høyteknologisenteret</td>\n",
       "      <td>Høyteknologisenteret</td>\n",
       "      <td>60.382255</td>\n",
       "      <td>5.332332</td>\n",
       "      <td>2018-06-29 13:01:02+02:00</td>\n",
       "      <td>2018-06-29 13:09:13+02:00</td>\n",
       "    </tr>\n",
       "    <tr>\n",
       "      <th>3</th>\n",
       "      <td>2018-06-29 11:30:33.362000+00:00</td>\n",
       "      <td>2018-06-29 11:38:32.276000+00:00</td>\n",
       "      <td>478</td>\n",
       "      <td>157</td>\n",
       "      <td>Høyteknologisenteret</td>\n",
       "      <td>Høyteknologisenteret</td>\n",
       "      <td>60.382255</td>\n",
       "      <td>5.332332</td>\n",
       "      <td>83</td>\n",
       "      <td>Bergen jernbanestasjon</td>\n",
       "      <td></td>\n",
       "      <td>60.390324</td>\n",
       "      <td>5.332440</td>\n",
       "      <td>2018-06-29 13:30:33+02:00</td>\n",
       "      <td>2018-06-29 13:38:32+02:00</td>\n",
       "    </tr>\n",
       "    <tr>\n",
       "      <th>4</th>\n",
       "      <td>2018-06-29 11:40:44.376000+00:00</td>\n",
       "      <td>2018-06-29 12:10:23.766000+00:00</td>\n",
       "      <td>1779</td>\n",
       "      <td>58</td>\n",
       "      <td>Tårnplass</td>\n",
       "      <td></td>\n",
       "      <td>60.393755</td>\n",
       "      <td>5.321792</td>\n",
       "      <td>116</td>\n",
       "      <td>Lysverket</td>\n",
       "      <td>Gamle lysverket, ved KODE</td>\n",
       "      <td>60.389543</td>\n",
       "      <td>5.329622</td>\n",
       "      <td>2018-06-29 13:40:44+02:00</td>\n",
       "      <td>2018-06-29 14:10:23+02:00</td>\n",
       "    </tr>\n",
       "  </tbody>\n",
       "</table>\n",
       "</div>"
      ],
      "text/plain": [
       "                         started_at                          ended_at  \\\n",
       "0  2018-06-29 10:45:12.736000+00:00  2018-06-29 11:05:10.430000+00:00   \n",
       "1  2018-06-29 10:53:59.691000+00:00  2018-06-29 11:11:28.184000+00:00   \n",
       "2  2018-06-29 11:01:02.987000+00:00  2018-06-29 11:09:13.172000+00:00   \n",
       "3  2018-06-29 11:30:33.362000+00:00  2018-06-29 11:38:32.276000+00:00   \n",
       "4  2018-06-29 11:40:44.376000+00:00  2018-06-29 12:10:23.766000+00:00   \n",
       "\n",
       "   duration  start_station_id    start_station_name start_station_description  \\\n",
       "0      1197                 3           Grieghallen                             \n",
       "1      1048                49   Studentsenteret UIB                             \n",
       "2       490                58             Tårnplass                             \n",
       "3       478               157  Høyteknologisenteret      Høyteknologisenteret   \n",
       "4      1779                58             Tårnplass                             \n",
       "\n",
       "   start_station_latitude  start_station_longitude  end_station_id  \\\n",
       "0               60.388167                 5.328335              83   \n",
       "1               60.387198                 5.322980              75   \n",
       "2               60.393755                 5.321792             157   \n",
       "3               60.382255                 5.332332              83   \n",
       "4               60.393755                 5.321792             116   \n",
       "\n",
       "         end_station_name    end_station_description  end_station_latitude  \\\n",
       "0  Bergen jernbanestasjon                                        60.390324   \n",
       "1                Akvariet                                        60.399877   \n",
       "2    Høyteknologisenteret       Høyteknologisenteret             60.382255   \n",
       "3  Bergen jernbanestasjon                                        60.390324   \n",
       "4               Lysverket  Gamle lysverket, ved KODE             60.389543   \n",
       "\n",
       "   end_station_longitude             started_at_dt               ended_at_dt  \n",
       "0               5.332440 2018-06-29 12:45:12+02:00 2018-06-29 13:05:10+02:00  \n",
       "1               5.304686 2018-06-29 12:53:59+02:00 2018-06-29 13:11:28+02:00  \n",
       "2               5.332332 2018-06-29 13:01:02+02:00 2018-06-29 13:09:13+02:00  \n",
       "3               5.332440 2018-06-29 13:30:33+02:00 2018-06-29 13:38:32+02:00  \n",
       "4               5.329622 2018-06-29 13:40:44+02:00 2018-06-29 14:10:23+02:00  "
      ]
     },
     "execution_count": 5,
     "metadata": {},
     "output_type": "execute_result"
    }
   ],
   "source": [
    "strptime_pattern = \"%Y-%m-%d %H:%M:%S%z\"\n",
    "timezone = pytz.timezone('Europe/Oslo')\n",
    "\n",
    "start = time.time()\n",
    "df['started_at_dt'] = df['started_at'].apply(lambda x: datetime.datetime.strptime(x[:-6].split('.')[0] + x[-6:], strptime_pattern).astimezone(timezone))\n",
    "df['ended_at_dt'] = df['ended_at'].apply(lambda x: datetime.datetime.strptime(x[:-6].split('.')[0] + x[-6:], strptime_pattern).astimezone(timezone))\n",
    "end = time.time()\n",
    "print(\"Трансформування: \", end - start, \"с.\")\n",
    "df.head()"
   ]
  },
  {
   "cell_type": "code",
   "execution_count": 11,
   "id": "f5ad4ab3",
   "metadata": {},
   "outputs": [
    {
     "data": {
      "text/html": [
       "<div>\n",
       "<style scoped>\n",
       "    .dataframe tbody tr th:only-of-type {\n",
       "        vertical-align: middle;\n",
       "    }\n",
       "\n",
       "    .dataframe tbody tr th {\n",
       "        vertical-align: top;\n",
       "    }\n",
       "\n",
       "    .dataframe thead th {\n",
       "        text-align: right;\n",
       "    }\n",
       "</style>\n",
       "<table border=\"1\" class=\"dataframe\">\n",
       "  <thead>\n",
       "    <tr style=\"text-align: right;\">\n",
       "      <th></th>\n",
       "      <th>started_at</th>\n",
       "      <th>ended_at</th>\n",
       "      <th>started_at_dt</th>\n",
       "      <th>ended_at_dt</th>\n",
       "    </tr>\n",
       "  </thead>\n",
       "  <tbody>\n",
       "    <tr>\n",
       "      <th>0</th>\n",
       "      <td>2018-06-29 10:45:12.736000+00:00</td>\n",
       "      <td>2018-06-29 11:05:10.430000+00:00</td>\n",
       "      <td>2018-06-29 12:45:12+02:00</td>\n",
       "      <td>2018-06-29 13:05:10+02:00</td>\n",
       "    </tr>\n",
       "    <tr>\n",
       "      <th>1</th>\n",
       "      <td>2018-06-29 10:53:59.691000+00:00</td>\n",
       "      <td>2018-06-29 11:11:28.184000+00:00</td>\n",
       "      <td>2018-06-29 12:53:59+02:00</td>\n",
       "      <td>2018-06-29 13:11:28+02:00</td>\n",
       "    </tr>\n",
       "    <tr>\n",
       "      <th>2</th>\n",
       "      <td>2018-06-29 11:01:02.987000+00:00</td>\n",
       "      <td>2018-06-29 11:09:13.172000+00:00</td>\n",
       "      <td>2018-06-29 13:01:02+02:00</td>\n",
       "      <td>2018-06-29 13:09:13+02:00</td>\n",
       "    </tr>\n",
       "    <tr>\n",
       "      <th>3</th>\n",
       "      <td>2018-06-29 11:30:33.362000+00:00</td>\n",
       "      <td>2018-06-29 11:38:32.276000+00:00</td>\n",
       "      <td>2018-06-29 13:30:33+02:00</td>\n",
       "      <td>2018-06-29 13:38:32+02:00</td>\n",
       "    </tr>\n",
       "    <tr>\n",
       "      <th>4</th>\n",
       "      <td>2018-06-29 11:40:44.376000+00:00</td>\n",
       "      <td>2018-06-29 12:10:23.766000+00:00</td>\n",
       "      <td>2018-06-29 13:40:44+02:00</td>\n",
       "      <td>2018-06-29 14:10:23+02:00</td>\n",
       "    </tr>\n",
       "  </tbody>\n",
       "</table>\n",
       "</div>"
      ],
      "text/plain": [
       "                         started_at                          ended_at  \\\n",
       "0  2018-06-29 10:45:12.736000+00:00  2018-06-29 11:05:10.430000+00:00   \n",
       "1  2018-06-29 10:53:59.691000+00:00  2018-06-29 11:11:28.184000+00:00   \n",
       "2  2018-06-29 11:01:02.987000+00:00  2018-06-29 11:09:13.172000+00:00   \n",
       "3  2018-06-29 11:30:33.362000+00:00  2018-06-29 11:38:32.276000+00:00   \n",
       "4  2018-06-29 11:40:44.376000+00:00  2018-06-29 12:10:23.766000+00:00   \n",
       "\n",
       "              started_at_dt               ended_at_dt  \n",
       "0 2018-06-29 12:45:12+02:00 2018-06-29 13:05:10+02:00  \n",
       "1 2018-06-29 12:53:59+02:00 2018-06-29 13:11:28+02:00  \n",
       "2 2018-06-29 13:01:02+02:00 2018-06-29 13:09:13+02:00  \n",
       "3 2018-06-29 13:30:33+02:00 2018-06-29 13:38:32+02:00  \n",
       "4 2018-06-29 13:40:44+02:00 2018-06-29 14:10:23+02:00  "
      ]
     },
     "execution_count": 11,
     "metadata": {},
     "output_type": "execute_result"
    }
   ],
   "source": [
    "df[['started_at', 'ended_at', 'started_at_dt', 'ended_at_dt']].head()"
   ]
  },
  {
   "cell_type": "code",
   "execution_count": 15,
   "id": "87cffe8a",
   "metadata": {},
   "outputs": [],
   "source": [
    "df_start_stations = df[['start_station_id',\n",
    "                        'start_station_name',\n",
    "                           'start_station_description', \n",
    "                           'start_station_latitude', \n",
    "                           'start_station_longitude']]"
   ]
  },
  {
   "cell_type": "code",
   "execution_count": 28,
   "id": "fb4bdaaf",
   "metadata": {},
   "outputs": [],
   "source": [
    "a = df_start_stations.drop_duplicates(subset=['start_station_id', 'start_station_name',\n",
    "                           'start_station_description', \n",
    "                           'start_station_latitude', \n",
    "                           'start_station_longitude'])"
   ]
  },
  {
   "cell_type": "code",
   "execution_count": 32,
   "id": "7bcf7e31",
   "metadata": {},
   "outputs": [],
   "source": [
    "a.to_excel('1.xlsx', index=False)"
   ]
  },
  {
   "cell_type": "code",
   "execution_count": 36,
   "id": "9437e642",
   "metadata": {},
   "outputs": [
    {
     "data": {
      "text/html": [
       "<div>\n",
       "<style scoped>\n",
       "    .dataframe tbody tr th:only-of-type {\n",
       "        vertical-align: middle;\n",
       "    }\n",
       "\n",
       "    .dataframe tbody tr th {\n",
       "        vertical-align: top;\n",
       "    }\n",
       "\n",
       "    .dataframe thead th {\n",
       "        text-align: right;\n",
       "    }\n",
       "</style>\n",
       "<table border=\"1\" class=\"dataframe\">\n",
       "  <thead>\n",
       "    <tr style=\"text-align: right;\">\n",
       "      <th></th>\n",
       "      <th>start_station_id</th>\n",
       "      <th>start_station_name</th>\n",
       "      <th>start_station_description</th>\n",
       "      <th>start_station_latitude</th>\n",
       "      <th>start_station_longitude</th>\n",
       "    </tr>\n",
       "  </thead>\n",
       "  <tbody>\n",
       "    <tr>\n",
       "      <th>444</th>\n",
       "      <td>449</td>\n",
       "      <td>Ruseløkkgården</td>\n",
       "      <td>langs Løkkeveien</td>\n",
       "      <td>59.913499</td>\n",
       "      <td>10.72656</td>\n",
       "    </tr>\n",
       "    <tr>\n",
       "      <th>276</th>\n",
       "      <td>449</td>\n",
       "      <td>Ruseløkkgården</td>\n",
       "      <td>langs Løkkeveien</td>\n",
       "      <td>59.913575</td>\n",
       "      <td>10.72623</td>\n",
       "    </tr>\n",
       "    <tr>\n",
       "      <th>2000</th>\n",
       "      <td>451</td>\n",
       "      <td>Suhms gate</td>\n",
       "      <td>mellom Schultz' gate og Industrigata</td>\n",
       "      <td>59.929419</td>\n",
       "      <td>10.726195</td>\n",
       "    </tr>\n",
       "    <tr>\n",
       "      <th>30</th>\n",
       "      <td>451</td>\n",
       "      <td>Suhms gate</td>\n",
       "      <td>ved Oslo døvekirke</td>\n",
       "      <td>59.929419</td>\n",
       "      <td>10.726195</td>\n",
       "    </tr>\n",
       "    <tr>\n",
       "      <th>36678</th>\n",
       "      <td>451</td>\n",
       "      <td>Suhms gate</td>\n",
       "      <td>NaN</td>\n",
       "      <td>59.929419</td>\n",
       "      <td>10.726195</td>\n",
       "    </tr>\n",
       "  </tbody>\n",
       "</table>\n",
       "</div>"
      ],
      "text/plain": [
       "      start_station_id start_station_name  \\\n",
       "444                449     Ruseløkkgården   \n",
       "276                449     Ruseløkkgården   \n",
       "2000               451         Suhms gate   \n",
       "30                 451         Suhms gate   \n",
       "36678              451         Suhms gate   \n",
       "\n",
       "                  start_station_description start_station_latitude  \\\n",
       "444                        langs Løkkeveien              59.913499   \n",
       "276                        langs Løkkeveien              59.913575   \n",
       "2000   mellom Schultz' gate og Industrigata              59.929419   \n",
       "30                       ved Oslo døvekirke              59.929419   \n",
       "36678                                   NaN              59.929419   \n",
       "\n",
       "      start_station_longitude  \n",
       "444                  10.72656  \n",
       "276                  10.72623  \n",
       "2000                10.726195  \n",
       "30                  10.726195  \n",
       "36678               10.726195  "
      ]
     },
     "execution_count": 36,
     "metadata": {},
     "output_type": "execute_result"
    }
   ],
   "source": [
    "a[a['start_station_id'].isin([449,451])].sort_values(by='start_station_id')"
   ]
  },
  {
   "cell_type": "code",
   "execution_count": 37,
   "id": "4e619a1a",
   "metadata": {},
   "outputs": [
    {
     "data": {
      "text/html": [
       "<div>\n",
       "<style scoped>\n",
       "    .dataframe tbody tr th:only-of-type {\n",
       "        vertical-align: middle;\n",
       "    }\n",
       "\n",
       "    .dataframe tbody tr th {\n",
       "        vertical-align: top;\n",
       "    }\n",
       "\n",
       "    .dataframe thead th {\n",
       "        text-align: right;\n",
       "    }\n",
       "</style>\n",
       "<table border=\"1\" class=\"dataframe\">\n",
       "  <thead>\n",
       "    <tr style=\"text-align: right;\">\n",
       "      <th></th>\n",
       "      <th>started_at</th>\n",
       "      <th>ended_at</th>\n",
       "      <th>duration</th>\n",
       "      <th>start_station_id</th>\n",
       "      <th>start_station_name</th>\n",
       "      <th>start_station_description</th>\n",
       "      <th>start_station_latitude</th>\n",
       "      <th>start_station_longitude</th>\n",
       "      <th>end_station_id</th>\n",
       "      <th>end_station_name</th>\n",
       "      <th>end_station_description</th>\n",
       "      <th>end_station_latitude</th>\n",
       "      <th>end_station_longitude</th>\n",
       "    </tr>\n",
       "  </thead>\n",
       "  <tbody>\n",
       "    <tr>\n",
       "      <th>107381</th>\n",
       "      <td>2020-06-12 22:58:29.631000+00:00</td>\n",
       "      <td>2020-09-21 11:40:40.126000+00:00</td>\n",
       "      <td>8685730</td>\n",
       "      <td>424</td>\n",
       "      <td>Birkelunden</td>\n",
       "      <td>langs Seilduksgata</td>\n",
       "      <td>59.925611</td>\n",
       "      <td>10.760926</td>\n",
       "      <td>489</td>\n",
       "      <td>Torggata</td>\n",
       "      <td>ved Bernt Ankers gate</td>\n",
       "      <td>59.915983</td>\n",
       "      <td>10.751551</td>\n",
       "    </tr>\n",
       "  </tbody>\n",
       "</table>\n",
       "</div>"
      ],
      "text/plain": [
       "                              started_at                          ended_at  \\\n",
       "107381  2020-06-12 22:58:29.631000+00:00  2020-09-21 11:40:40.126000+00:00   \n",
       "\n",
       "       duration start_station_id start_station_name start_station_description  \\\n",
       "107381  8685730              424        Birkelunden        langs Seilduksgata   \n",
       "\n",
       "       start_station_latitude start_station_longitude end_station_id  \\\n",
       "107381              59.925611               10.760926            489   \n",
       "\n",
       "       end_station_name end_station_description end_station_latitude  \\\n",
       "107381         Torggata   ved Bernt Ankers gate            59.915983   \n",
       "\n",
       "       end_station_longitude  \n",
       "107381             10.751551  "
      ]
     },
     "execution_count": 37,
     "metadata": {},
     "output_type": "execute_result"
    }
   ],
   "source": [
    "df.sort_values(by='duration').tail(1)"
   ]
  },
  {
   "cell_type": "code",
   "execution_count": 38,
   "id": "47e382a2",
   "metadata": {},
   "outputs": [
    {
     "data": {
      "text/plain": [
       "100.5292824074074"
      ]
     },
     "execution_count": 38,
     "metadata": {},
     "output_type": "execute_result"
    }
   ],
   "source": [
    "8685730 / 60 / 60 / 24"
   ]
  },
  {
   "cell_type": "code",
   "execution_count": 75,
   "id": "10af5a56",
   "metadata": {},
   "outputs": [],
   "source": [
    "df_start_stations = df_start_stations.drop_duplicates(subset=['start_station_id'],\n",
    "                                                     keep='last')"
   ]
  },
  {
   "cell_type": "code",
   "execution_count": 76,
   "id": "f02bad22",
   "metadata": {},
   "outputs": [
    {
     "data": {
      "text/plain": [
       "(115, 5)"
      ]
     },
     "execution_count": 76,
     "metadata": {},
     "output_type": "execute_result"
    }
   ],
   "source": [
    "df_start_stations.shape"
   ]
  },
  {
   "cell_type": "code",
   "execution_count": 77,
   "id": "31a7e917",
   "metadata": {},
   "outputs": [],
   "source": [
    "df_start_stations = df_start_stations.rename(columns={'start_station_id': 'station_id',\n",
    "                                                     'start_station_name': 'station_name',\n",
    "                                                     'start_station_description': 'station_description',\n",
    "                                                     'start_station_latitude': 'station_latitude',\n",
    "                                                     'start_station_longitude': 'station_longitude'})"
   ]
  },
  {
   "cell_type": "code",
   "execution_count": 78,
   "id": "59c73c5b",
   "metadata": {},
   "outputs": [],
   "source": [
    "df_start_stations.to_csv(f'./data/{city_name}_stations.csv', index=False)"
   ]
  },
  {
   "cell_type": "code",
   "execution_count": 79,
   "id": "7c74e6d4",
   "metadata": {},
   "outputs": [],
   "source": [
    "df = df[['started_at_dt', 'ended_at_dt', 'duration', 'start_station_id', 'end_station_id']]"
   ]
  },
  {
   "cell_type": "code",
   "execution_count": 80,
   "id": "d891a40d",
   "metadata": {},
   "outputs": [
    {
     "data": {
      "text/plain": [
       "(3035172, 5)"
      ]
     },
     "execution_count": 80,
     "metadata": {},
     "output_type": "execute_result"
    }
   ],
   "source": [
    "df.shape"
   ]
  },
  {
   "cell_type": "code",
   "execution_count": null,
   "id": "07f7f9ab",
   "metadata": {},
   "outputs": [],
   "source": []
  },
  {
   "cell_type": "markdown",
   "id": "9587be11",
   "metadata": {},
   "source": [
    "Створюємо 2 датафрейми: \n",
    "- df_duration_ouliers - містить аутлаєри по часу поїздки > 24 годин. Потрібний для подальшого аналізу цих аутлаєрів.\n",
    "- df - містить сирі дані очищені від аутлаєрів > 24 годин. Для подальшого аналізу."
   ]
  },
  {
   "cell_type": "code",
   "execution_count": 81,
   "id": "9f9a65a1",
   "metadata": {},
   "outputs": [],
   "source": [
    "df_duration_outliers = df[df['duration'] > 24 * 60 * 60]\n",
    "df = df[df['duration'] <= 24 * 60 * 60]"
   ]
  },
  {
   "cell_type": "code",
   "execution_count": 82,
   "id": "02083c2c",
   "metadata": {},
   "outputs": [
    {
     "data": {
      "text/plain": [
       "68.05525207519531"
      ]
     },
     "execution_count": 82,
     "metadata": {},
     "output_type": "execute_result"
    }
   ],
   "source": [
    "start = time.time()\n",
    "df.to_csv(f'./data/{city_name}_clear_rides_data.csv', index=False)\n",
    "end = time.time()\n",
    "end - start"
   ]
  },
  {
   "cell_type": "code",
   "execution_count": 83,
   "id": "91dd3dc6",
   "metadata": {},
   "outputs": [
    {
     "data": {
      "text/plain": [
       "0.016646862030029297"
      ]
     },
     "execution_count": 83,
     "metadata": {},
     "output_type": "execute_result"
    }
   ],
   "source": [
    "start = time.time()\n",
    "df_duration_outliers.to_csv(f'./data/{city_name}_duration_outliers-stolen_bikes.csv', index=False)\n",
    "end = time.time()\n",
    "end - start"
   ]
  },
  {
   "cell_type": "code",
   "execution_count": null,
   "id": "04b82de0",
   "metadata": {},
   "outputs": [],
   "source": []
  }
 ],
 "metadata": {
  "kernelspec": {
   "display_name": "Python 3 (ipykernel)",
   "language": "python",
   "name": "python3"
  },
  "language_info": {
   "codemirror_mode": {
    "name": "ipython",
    "version": 3
   },
   "file_extension": ".py",
   "mimetype": "text/x-python",
   "name": "python",
   "nbconvert_exporter": "python",
   "pygments_lexer": "ipython3",
   "version": "3.9.13"
  }
 },
 "nbformat": 4,
 "nbformat_minor": 5
}
