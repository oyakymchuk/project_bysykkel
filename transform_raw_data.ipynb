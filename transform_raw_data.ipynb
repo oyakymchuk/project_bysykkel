{
 "cells": [
  {
   "cell_type": "markdown",
   "id": "970e3be1",
   "metadata": {},
   "source": [
    "Цей код створює 2 окремі датафрейми:\n",
    "- df_duration_ouliers - містить аутлаєри по часу поїздки > 24 годин.\n",
    "- df - містить сирі дані очищені від аутлаєрів > 24 годин.\n",
    "\n",
    "В обох датафреймах міститься ще 2 додаткові колонки: started_at_dt і ended_at_dt, що містять час початку і кінця поїздки в типі datetime в таймзомі міста Осло."
   ]
  },
  {
   "cell_type": "code",
   "execution_count": 1,
   "id": "670b43b4",
   "metadata": {},
   "outputs": [],
   "source": [
    "import pandas as pd\n",
    "import datetime\n",
    "import time\n",
    "import helpful_functions\n",
    "import pytz"
   ]
  },
  {
   "cell_type": "code",
   "execution_count": 2,
   "id": "cc3750e8",
   "metadata": {},
   "outputs": [],
   "source": [
    "city_name = 'oslo'        # можливі варіанти: olso, bergen, trondheim\n",
    "\n",
    "start_month = 4           # 1 - 12\n",
    "start_year = 2019         # 2019 - 2022\n",
    "\n",
    "end_month = 6             # 1 - 12\n",
    "end_year = 2022           # 2019 - 2022\n",
    "\n",
    "data_folder = './data'"
   ]
  },
  {
   "cell_type": "code",
   "execution_count": 3,
   "id": "f9d9316b",
   "metadata": {},
   "outputs": [],
   "source": [
    "dates_str_list = helpful_functions.generate_months_in_period(\n",
    "    start_month=start_month, \n",
    "    start_year=start_year, \n",
    "    end_month=end_month, \n",
    "    end_year=end_year, \n",
    "    sep=\"_\")"
   ]
  },
  {
   "cell_type": "code",
   "execution_count": 4,
   "id": "ab949bad",
   "metadata": {},
   "outputs": [
    {
     "name": "stdout",
     "output_type": "stream",
     "text": [
      "Зчитування:  44.2213351726532 с. \n",
      "\n",
      "Розмір початкової таблиці:  (5833647, 13)\n"
     ]
    }
   ],
   "source": [
    "start = time.time()\n",
    "df = pd.read_csv(f\"{data_folder}/{city_name}_{dates_str_list[0]}.csv\")\n",
    "for date in dates_str_list[1:]:\n",
    "    df = pd.concat([df, pd.read_csv(f\"{data_folder}/{city_name}_{date}.csv\")])\n",
    "end = time.time()\n",
    "print(\"Зчитування: \", end - start, \"с. \\n\")\n",
    "print(\"Розмір початкової таблиці: \", df.shape)"
   ]
  },
  {
   "cell_type": "code",
   "execution_count": 5,
   "id": "63733820",
   "metadata": {},
   "outputs": [
    {
     "name": "stdout",
     "output_type": "stream",
     "text": [
      "Трансформування:  217.26721382141113 с.\n"
     ]
    },
    {
     "data": {
      "text/html": [
       "<div>\n",
       "<style scoped>\n",
       "    .dataframe tbody tr th:only-of-type {\n",
       "        vertical-align: middle;\n",
       "    }\n",
       "\n",
       "    .dataframe tbody tr th {\n",
       "        vertical-align: top;\n",
       "    }\n",
       "\n",
       "    .dataframe thead th {\n",
       "        text-align: right;\n",
       "    }\n",
       "</style>\n",
       "<table border=\"1\" class=\"dataframe\">\n",
       "  <thead>\n",
       "    <tr style=\"text-align: right;\">\n",
       "      <th></th>\n",
       "      <th>started_at</th>\n",
       "      <th>ended_at</th>\n",
       "      <th>duration</th>\n",
       "      <th>start_station_id</th>\n",
       "      <th>start_station_name</th>\n",
       "      <th>start_station_description</th>\n",
       "      <th>start_station_latitude</th>\n",
       "      <th>start_station_longitude</th>\n",
       "      <th>end_station_id</th>\n",
       "      <th>end_station_name</th>\n",
       "      <th>end_station_description</th>\n",
       "      <th>end_station_latitude</th>\n",
       "      <th>end_station_longitude</th>\n",
       "      <th>started_at_dt</th>\n",
       "      <th>ended_at_dt</th>\n",
       "    </tr>\n",
       "  </thead>\n",
       "  <tbody>\n",
       "    <tr>\n",
       "      <th>0</th>\n",
       "      <td>2019-04-02 22:18:47.926000+00:00</td>\n",
       "      <td>2019-04-02 22:24:25.427000+00:00</td>\n",
       "      <td>337</td>\n",
       "      <td>401</td>\n",
       "      <td>Schous plass</td>\n",
       "      <td>nærmest Thorvald Meyers gate</td>\n",
       "      <td>59.920259</td>\n",
       "      <td>10.760629</td>\n",
       "      <td>381</td>\n",
       "      <td>Grønlands torg</td>\n",
       "      <td>ved Tøyenbekken</td>\n",
       "      <td>59.91252</td>\n",
       "      <td>10.76224</td>\n",
       "      <td>2019-04-03 00:18:47+02:00</td>\n",
       "      <td>2019-04-03 00:24:25+02:00</td>\n",
       "    </tr>\n",
       "    <tr>\n",
       "      <th>1</th>\n",
       "      <td>2019-04-02 22:25:54.203000+00:00</td>\n",
       "      <td>2019-04-02 22:27:36.114000+00:00</td>\n",
       "      <td>101</td>\n",
       "      <td>556</td>\n",
       "      <td>Pilestredet</td>\n",
       "      <td>ved Sporveisgata</td>\n",
       "      <td>59.926224</td>\n",
       "      <td>10.729625</td>\n",
       "      <td>556</td>\n",
       "      <td>Pilestredet</td>\n",
       "      <td>ved Sporveisgata</td>\n",
       "      <td>59.926224</td>\n",
       "      <td>10.729625</td>\n",
       "      <td>2019-04-03 00:25:54+02:00</td>\n",
       "      <td>2019-04-03 00:27:36+02:00</td>\n",
       "    </tr>\n",
       "    <tr>\n",
       "      <th>2</th>\n",
       "      <td>2019-04-02 22:26:39.308000+00:00</td>\n",
       "      <td>2019-04-02 22:31:59.445000+00:00</td>\n",
       "      <td>320</td>\n",
       "      <td>561</td>\n",
       "      <td>Kirkeveien</td>\n",
       "      <td>nord for Gørbitz' gate</td>\n",
       "      <td>59.933558</td>\n",
       "      <td>10.726426</td>\n",
       "      <td>471</td>\n",
       "      <td>Marienlyst</td>\n",
       "      <td>i Suhms gate</td>\n",
       "      <td>59.932454</td>\n",
       "      <td>10.721769</td>\n",
       "      <td>2019-04-03 00:26:39+02:00</td>\n",
       "      <td>2019-04-03 00:31:59+02:00</td>\n",
       "    </tr>\n",
       "    <tr>\n",
       "      <th>3</th>\n",
       "      <td>2019-04-03 03:09:58.992000+00:00</td>\n",
       "      <td>2019-04-03 03:12:00.589000+00:00</td>\n",
       "      <td>121</td>\n",
       "      <td>393</td>\n",
       "      <td>Hans Nielsen Hauges plass</td>\n",
       "      <td>Mellom Åsengata og Nordkappgata</td>\n",
       "      <td>59.939244</td>\n",
       "      <td>10.774319</td>\n",
       "      <td>393</td>\n",
       "      <td>Hans Nielsen Hauges plass</td>\n",
       "      <td>Mellom Åsengata og Nordkappgata</td>\n",
       "      <td>59.939244</td>\n",
       "      <td>10.774319</td>\n",
       "      <td>2019-04-03 05:09:58+02:00</td>\n",
       "      <td>2019-04-03 05:12:00+02:00</td>\n",
       "    </tr>\n",
       "    <tr>\n",
       "      <th>4</th>\n",
       "      <td>2019-04-03 03:10:02.415000+00:00</td>\n",
       "      <td>2019-04-03 03:14:44.537000+00:00</td>\n",
       "      <td>282</td>\n",
       "      <td>597</td>\n",
       "      <td>Fredensborg</td>\n",
       "      <td>ved rundkjøringen</td>\n",
       "      <td>59.920995</td>\n",
       "      <td>10.750358</td>\n",
       "      <td>557</td>\n",
       "      <td>Akersgata</td>\n",
       "      <td>ved Grensen</td>\n",
       "      <td>59.914197</td>\n",
       "      <td>10.742883</td>\n",
       "      <td>2019-04-03 05:10:02+02:00</td>\n",
       "      <td>2019-04-03 05:14:44+02:00</td>\n",
       "    </tr>\n",
       "  </tbody>\n",
       "</table>\n",
       "</div>"
      ],
      "text/plain": [
       "                         started_at                          ended_at  \\\n",
       "0  2019-04-02 22:18:47.926000+00:00  2019-04-02 22:24:25.427000+00:00   \n",
       "1  2019-04-02 22:25:54.203000+00:00  2019-04-02 22:27:36.114000+00:00   \n",
       "2  2019-04-02 22:26:39.308000+00:00  2019-04-02 22:31:59.445000+00:00   \n",
       "3  2019-04-03 03:09:58.992000+00:00  2019-04-03 03:12:00.589000+00:00   \n",
       "4  2019-04-03 03:10:02.415000+00:00  2019-04-03 03:14:44.537000+00:00   \n",
       "\n",
       "  duration start_station_id         start_station_name  \\\n",
       "0      337              401               Schous plass   \n",
       "1      101              556                Pilestredet   \n",
       "2      320              561                 Kirkeveien   \n",
       "3      121              393  Hans Nielsen Hauges plass   \n",
       "4      282              597                Fredensborg   \n",
       "\n",
       "         start_station_description start_station_latitude  \\\n",
       "0     nærmest Thorvald Meyers gate              59.920259   \n",
       "1                 ved Sporveisgata              59.926224   \n",
       "2           nord for Gørbitz' gate              59.933558   \n",
       "3  Mellom Åsengata og Nordkappgata              59.939244   \n",
       "4                ved rundkjøringen              59.920995   \n",
       "\n",
       "  start_station_longitude end_station_id           end_station_name  \\\n",
       "0               10.760629            381             Grønlands torg   \n",
       "1               10.729625            556                Pilestredet   \n",
       "2               10.726426            471                 Marienlyst   \n",
       "3               10.774319            393  Hans Nielsen Hauges plass   \n",
       "4               10.750358            557                  Akersgata   \n",
       "\n",
       "           end_station_description end_station_latitude end_station_longitude  \\\n",
       "0                  ved Tøyenbekken             59.91252              10.76224   \n",
       "1                 ved Sporveisgata            59.926224             10.729625   \n",
       "2                     i Suhms gate            59.932454             10.721769   \n",
       "3  Mellom Åsengata og Nordkappgata            59.939244             10.774319   \n",
       "4                      ved Grensen            59.914197             10.742883   \n",
       "\n",
       "              started_at_dt               ended_at_dt  \n",
       "0 2019-04-03 00:18:47+02:00 2019-04-03 00:24:25+02:00  \n",
       "1 2019-04-03 00:25:54+02:00 2019-04-03 00:27:36+02:00  \n",
       "2 2019-04-03 00:26:39+02:00 2019-04-03 00:31:59+02:00  \n",
       "3 2019-04-03 05:09:58+02:00 2019-04-03 05:12:00+02:00  \n",
       "4 2019-04-03 05:10:02+02:00 2019-04-03 05:14:44+02:00  "
      ]
     },
     "execution_count": 5,
     "metadata": {},
     "output_type": "execute_result"
    }
   ],
   "source": [
    "strptime_pattern = \"%Y-%m-%d %H:%M:%S%z\"\n",
    "timezone = pytz.timezone('Europe/Oslo')\n",
    "\n",
    "start = time.time()\n",
    "df['started_at_dt'] = df['started_at'].apply(lambda x: datetime.datetime.strptime(x[:-6].split('.')[0] + x[-6:], strptime_pattern).astimezone(timezone))\n",
    "df['ended_at_dt'] = df['ended_at'].apply(lambda x: datetime.datetime.strptime(x[:-6].split('.')[0] + x[-6:], strptime_pattern).astimezone(timezone))\n",
    "end = time.time()\n",
    "print(\"Трансформування: \", end - start, \"с.\")\n",
    "df.head()"
   ]
  },
  {
   "cell_type": "markdown",
   "id": "9587be11",
   "metadata": {},
   "source": [
    "Створюємо 2 датафрейми: \n",
    "- df_duration_ouliers - містить аутлаєри по часу поїздки > 24 годин. Потрібний для подальшого аналізу цих аутлаєрів.\n",
    "- df - містить сирі дані очищені від аутлаєрів > 24 годин. Для подальшого аналізу."
   ]
  },
  {
   "cell_type": "code",
   "execution_count": 6,
   "id": "9f9a65a1",
   "metadata": {},
   "outputs": [],
   "source": [
    "df_duration_ouliers = df[df['duration'] > 24 * 60 * 60]\n",
    "df = df.drop(df[df['duration'] > 24 * 60 * 60].index)"
   ]
  },
  {
   "cell_type": "code",
   "execution_count": 18,
   "id": "8cf47b3e",
   "metadata": {},
   "outputs": [],
   "source": [
    "# df.to_csv('1.csv')"
   ]
  },
  {
   "cell_type": "code",
   "execution_count": null,
   "id": "6fa09082",
   "metadata": {},
   "outputs": [],
   "source": []
  }
 ],
 "metadata": {
  "kernelspec": {
   "display_name": "Python 3 (ipykernel)",
   "language": "python",
   "name": "python3"
  },
  "language_info": {
   "codemirror_mode": {
    "name": "ipython",
    "version": 3
   },
   "file_extension": ".py",
   "mimetype": "text/x-python",
   "name": "python",
   "nbconvert_exporter": "python",
   "pygments_lexer": "ipython3",
   "version": "3.9.9"
  }
 },
 "nbformat": 4,
 "nbformat_minor": 5
}
